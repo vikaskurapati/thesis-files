{
 "cells": [
  {
   "cell_type": "code",
   "execution_count": 1,
   "id": "35c1114f",
   "metadata": {},
   "outputs": [],
   "source": [
    "import numpy as np"
   ]
  },
  {
   "cell_type": "code",
   "execution_count": 2,
   "id": "8a490c5f",
   "metadata": {},
   "outputs": [
    {
     "name": "stderr",
     "output_type": "stream",
     "text": [
      "/tmp/ipykernel_13896/873432081.py:1: DeprecationWarning: `np.complex` is a deprecated alias for the builtin `complex`. To silence this warning, use `complex` by itself. Doing this will not modify any behavior and is safe. If you specifically wanted the numpy scalar type, use `np.complex128` here.\n",
      "Deprecated in NumPy 1.20; for more details and guidance: https://numpy.org/devdocs/release/1.20.0-notes.html#deprecations\n",
      "  np.complex\n"
     ]
    },
    {
     "data": {
      "text/plain": [
       "complex"
      ]
     },
     "execution_count": 2,
     "metadata": {},
     "output_type": "execute_result"
    }
   ],
   "source": [
    "np.complex\n"
   ]
  },
  {
   "cell_type": "code",
   "execution_count": 3,
   "id": "7d2f843a",
   "metadata": {},
   "outputs": [
    {
     "data": {
      "text/plain": [
       "complex"
      ]
     },
     "execution_count": 3,
     "metadata": {},
     "output_type": "execute_result"
    }
   ],
   "source": [
    "complex\n"
   ]
  },
  {
   "cell_type": "code",
   "execution_count": 7,
   "id": "92e9a2fb",
   "metadata": {},
   "outputs": [
    {
     "data": {
      "text/plain": [
       "1j"
      ]
     },
     "execution_count": 7,
     "metadata": {},
     "output_type": "execute_result"
    }
   ],
   "source": [
    "complex(0,1)"
   ]
  },
  {
   "cell_type": "code",
   "execution_count": 9,
   "id": "6cbfb3e9",
   "metadata": {},
   "outputs": [
    {
     "data": {
      "text/plain": [
       "(6.123233995736766e-17+1j)"
      ]
     },
     "execution_count": 9,
     "metadata": {},
     "output_type": "execute_result"
    }
   ],
   "source": [
    "np.exp(complex(0,0.5*np.pi))"
   ]
  },
  {
   "cell_type": "code",
   "execution_count": 27,
   "id": "b31156a3",
   "metadata": {},
   "outputs": [],
   "source": [
    "k = 6.283\n",
    "omega = 3.1415\n",
    "tITM = 2\n",
    "def phi(x,t):\n",
    "    return 0.5*(1+n1)*np.exp(complex(0,1)*(k*x - omega*t/n1 + omega*(1/n1 - 1)*tITM)) + 0.5*(1-n1)*np.exp(complex(0,1)*(k*x + omega*t/n1 - omega*(1/n1 + 1)*tITM))"
   ]
  },
  {
   "cell_type": "code",
   "execution_count": 35,
   "id": "59e278e1",
   "metadata": {},
   "outputs": [
    {
     "name": "stderr",
     "output_type": "stream",
     "text": [
      "/tmp/ipykernel_13896/2157790224.py:5: RuntimeWarning: divide by zero encountered in double_scalars\n",
      "  return 0.5*(1+n1)*np.exp(complex(0,1)*(k*x - omega*t/n1 + omega*(1/n1 - 1)*tITM)) + 0.5*(1-n1)*np.exp(complex(0,1)*(k*x + omega*t/n1 - omega*(1/n1 + 1)*tITM))\n",
      "/tmp/ipykernel_13896/2157790224.py:5: RuntimeWarning: invalid value encountered in double_scalars\n",
      "  return 0.5*(1+n1)*np.exp(complex(0,1)*(k*x - omega*t/n1 + omega*(1/n1 - 1)*tITM)) + 0.5*(1-n1)*np.exp(complex(0,1)*(k*x + omega*t/n1 - omega*(1/n1 + 1)*tITM))\n"
     ]
    }
   ],
   "source": [
    "n = np.linspace(0,1)\n",
    "energy = []\n",
    "for n1 in n:\n",
    "    energy.append(np.abs(phi(0,2.1)))"
   ]
  },
  {
   "cell_type": "code",
   "execution_count": 36,
   "id": "4a671a1c",
   "metadata": {},
   "outputs": [
    {
     "data": {
      "text/plain": [
       "[<matplotlib.lines.Line2D at 0x7fa5a3ef97b0>]"
      ]
     },
     "execution_count": 36,
     "metadata": {},
     "output_type": "execute_result"
    },
    {
     "data": {
      "image/png": "[encoded data removed]",
      "text/plain": [
       "<Figure size 640x480 with 1 Axes>"
      ]
     },
     "metadata": {},
     "output_type": "display_data"
    }
   ],
   "source": [
    "from matplotlib import pyplot as plt\n",
    "plt.plot(n, energy)"
   ]
  },
  {
   "cell_type": "code",
   "execution_count": 32,
   "id": "6112c011",
   "metadata": {},
   "outputs": [
    {
     "data": {
      "text/plain": [
       "array([1.00000000e-04, 2.05061224e-02, 4.09122449e-02, 6.13183673e-02,\n",
       "       8.17244898e-02, 1.02130612e-01, 1.22536735e-01, 1.42942857e-01,\n",
       "       1.63348980e-01, 1.83755102e-01, 2.04161224e-01, 2.24567347e-01,\n",
       "       2.44973469e-01, 2.65379592e-01, 2.85785714e-01, 3.06191837e-01,\n",
       "       3.26597959e-01, 3.47004082e-01, 3.67410204e-01, 3.87816327e-01,\n",
       "       4.08222449e-01, 4.28628571e-01, 4.49034694e-01, 4.69440816e-01,\n",
       "       4.89846939e-01, 5.10253061e-01, 5.30659184e-01, 5.51065306e-01,\n",
       "       5.71471429e-01, 5.91877551e-01, 6.12283673e-01, 6.32689796e-01,\n",
       "       6.53095918e-01, 6.73502041e-01, 6.93908163e-01, 7.14314286e-01,\n",
       "       7.34720408e-01, 7.55126531e-01, 7.75532653e-01, 7.95938776e-01,\n",
       "       8.16344898e-01, 8.36751020e-01, 8.57157143e-01, 8.77563265e-01,\n",
       "       8.97969388e-01, 9.18375510e-01, 9.38781633e-01, 9.59187755e-01,\n",
       "       9.79593878e-01, 1.00000000e+00])"
      ]
     },
     "execution_count": 32,
     "metadata": {},
     "output_type": "execute_result"
    }
   ],
   "source": [
    "n"
   ]
  },
  {
   "cell_type": "code",
   "execution_count": 1,
   "id": "e0305c75",
   "metadata": {},
   "outputs": [],
   "source": [
    "import numpy as np\n"
   ]
  },
  {
   "cell_type": "code",
   "execution_count": 13,
   "id": "fac8e4fa",
   "metadata": {},
   "outputs": [],
   "source": [
    "k = 6.283\n",
    "omega = 3.1415\n",
    "tITM = 2\n",
    "def phi_ITM(x,t):\n",
    "    return 0.5*(1+n1)*np.exp(complex(0,1)*(k*x - omega*t/n1 + omega*(1/n1 - 1)*tITM)) + 0.5*(1-n1)*np.exp(complex(0,1)*(k*x + omega*t/n1 - omega*(1/n1 + 1)*tITM))\n",
    "def phi(x,t):\n",
    "    return np.exp(complex(0,1)*(k*x - omega*t))"
   ]
  },
  {
   "cell_type": "code",
   "execution_count": 14,
   "id": "b15f1c4d",
   "metadata": {},
   "outputs": [],
   "source": [
    "from scipy.integrate import quad"
   ]
  },
  {
   "cell_type": "code",
   "execution_count": 15,
   "id": "934ad413",
   "metadata": {},
   "outputs": [],
   "source": [
    "def phi_energ(x):\n",
    "    return np.abs(phi(x,0))*np.abs(phi(x,0))"
   ]
  },
  {
   "cell_type": "code",
   "execution_count": 16,
   "id": "438e82ac",
   "metadata": {},
   "outputs": [],
   "source": [
    "res, err = quad(phi_energ, -1, 1)"
   ]
  },
  {
   "cell_type": "code",
   "execution_count": 17,
   "id": "c5f5b26a",
   "metadata": {},
   "outputs": [
    {
     "data": {
      "text/plain": [
       "2.0"
      ]
     },
     "execution_count": 17,
     "metadata": {},
     "output_type": "execute_result"
    }
   ],
   "source": [
    "res"
   ]
  },
  {
   "cell_type": "code",
   "execution_count": 33,
   "id": "d44416ed",
   "metadata": {},
   "outputs": [],
   "source": [
    "n1 = 0.1"
   ]
  },
  {
   "cell_type": "code",
   "execution_count": null,
   "id": "bc9eea36",
   "metadata": {},
   "outputs": [],
   "source": []
  },
  {
   "cell_type": "code",
   "execution_count": 34,
   "id": "06174538",
   "metadata": {},
   "outputs": [],
   "source": [
    "res_ITM, err_ITM = quad(phi_ITM_energ,-1,1)"
   ]
  },
  {
   "cell_type": "code",
   "execution_count": 35,
   "id": "34efbc7f",
   "metadata": {},
   "outputs": [
    {
     "data": {
      "text/plain": [
       "1.999999983002319"
      ]
     },
     "execution_count": 35,
     "metadata": {},
     "output_type": "execute_result"
    }
   ],
   "source": [
    "res_ITM"
   ]
  },
  {
   "cell_type": "code",
   "execution_count": 31,
   "id": "666937f7",
   "metadata": {},
   "outputs": [
    {
     "name": "stderr",
     "output_type": "stream",
     "text": [
      "/tmp/ipykernel_8930/3355662582.py:5: RuntimeWarning: divide by zero encountered in double_scalars\n",
      "  return 0.5*(1+n1)*np.exp(complex(0,1)*(k*x - omega*t/n1 + omega*(1/n1 - 1)*tITM)) + 0.5*(1-n1)*np.exp(complex(0,1)*(k*x + omega*t/n1 - omega*(1/n1 + 1)*tITM))\n",
      "/tmp/ipykernel_8930/3355662582.py:5: RuntimeWarning: invalid value encountered in double_scalars\n",
      "  return 0.5*(1+n1)*np.exp(complex(0,1)*(k*x - omega*t/n1 + omega*(1/n1 - 1)*tITM)) + 0.5*(1-n1)*np.exp(complex(0,1)*(k*x + omega*t/n1 - omega*(1/n1 + 1)*tITM))\n",
      "/tmp/ipykernel_8930/1760729342.py:6: IntegrationWarning: The occurrence of roundoff error is detected, which prevents \n",
      "  the requested tolerance from being achieved.  The error may be \n",
      "  underestimated.\n",
      "  en, err = quad(phi_ITM_energ, -1, 1)\n"
     ]
    }
   ],
   "source": [
    "n = np.linspace(0,1)\n",
    "energy = []\n",
    "for n1 in n:\n",
    "    def phi_ITM_energ(x):\n",
    "        return np.abs(phi_ITM(x,2.1)*np.abs(phi_ITM(x,2.1)))\n",
    "    en, err = quad(phi_ITM_energ, -1, 1)\n",
    "    energy.append(en)"
   ]
  },
  {
   "cell_type": "code",
   "execution_count": 36,
   "id": "95564bdd",
   "metadata": {},
   "outputs": [
    {
     "data": {
      "text/plain": [
       "Text(0, 0.5, 'relative energy change')"
      ]
     },
     "execution_count": 36,
     "metadata": {},
     "output_type": "execute_result"
    },
    {
     "data": {
      "image/png": "[encoded data removed]",
      "text/plain": [
       "<Figure size 640x480 with 1 Axes>"
      ]
     },
     "metadata": {},
     "output_type": "display_data"
    }
   ],
   "source": [
    "from matplotlib import pyplot as plt\n",
    "plt.plot(n, np.array(energy)/res)\n",
    "plt.xlabel(\"n1\")\n",
    "plt.ylabel(\"relative energy change\")"
   ]
  },
  {
   "cell_type": "code",
   "execution_count": 1,
   "id": "b618ba77",
   "metadata": {},
   "outputs": [],
   "source": [
    "import numpy as np"
   ]
  },
  {
   "cell_type": "code",
   "execution_count": 29,
   "id": "94dd3191",
   "metadata": {},
   "outputs": [],
   "source": [
    "n = np.linspace(-10,10)"
   ]
  },
  {
   "cell_type": "code",
   "execution_count": 30,
   "id": "a8cf50d3",
   "metadata": {},
   "outputs": [],
   "source": [
    "t = np.linspace(0,2)"
   ]
  },
  {
   "cell_type": "code",
   "execution_count": 31,
   "id": "765eb6d9",
   "metadata": {},
   "outputs": [
    {
     "data": {
      "text/plain": [
       "array([-10.        ,  -9.59183673,  -9.18367347,  -8.7755102 ,\n",
       "        -8.36734694,  -7.95918367,  -7.55102041,  -7.14285714,\n",
       "        -6.73469388,  -6.32653061,  -5.91836735,  -5.51020408,\n",
       "        -5.10204082,  -4.69387755,  -4.28571429,  -3.87755102,\n",
       "        -3.46938776,  -3.06122449,  -2.65306122,  -2.24489796,\n",
       "        -1.83673469,  -1.42857143,  -1.02040816,  -0.6122449 ,\n",
       "        -0.20408163,   0.20408163,   0.6122449 ,   1.02040816,\n",
       "         1.42857143,   1.83673469,   2.24489796,   2.65306122,\n",
       "         3.06122449,   3.46938776,   3.87755102,   4.28571429,\n",
       "         4.69387755,   5.10204082,   5.51020408,   5.91836735,\n",
       "         6.32653061,   6.73469388,   7.14285714,   7.55102041,\n",
       "         7.95918367,   8.36734694,   8.7755102 ,   9.18367347,\n",
       "         9.59183673,  10.        ])"
      ]
     },
     "execution_count": 31,
     "metadata": {},
     "output_type": "execute_result"
    }
   ],
   "source": [
    "n"
   ]
  },
  {
   "cell_type": "code",
   "execution_count": 32,
   "id": "d13dbc78",
   "metadata": {},
   "outputs": [
    {
     "data": {
      "text/plain": [
       "array([0.        , 0.04081633, 0.08163265, 0.12244898, 0.16326531,\n",
       "       0.20408163, 0.24489796, 0.28571429, 0.32653061, 0.36734694,\n",
       "       0.40816327, 0.44897959, 0.48979592, 0.53061224, 0.57142857,\n",
       "       0.6122449 , 0.65306122, 0.69387755, 0.73469388, 0.7755102 ,\n",
       "       0.81632653, 0.85714286, 0.89795918, 0.93877551, 0.97959184,\n",
       "       1.02040816, 1.06122449, 1.10204082, 1.14285714, 1.18367347,\n",
       "       1.2244898 , 1.26530612, 1.30612245, 1.34693878, 1.3877551 ,\n",
       "       1.42857143, 1.46938776, 1.51020408, 1.55102041, 1.59183673,\n",
       "       1.63265306, 1.67346939, 1.71428571, 1.75510204, 1.79591837,\n",
       "       1.83673469, 1.87755102, 1.91836735, 1.95918367, 2.        ])"
      ]
     },
     "execution_count": 32,
     "metadata": {},
     "output_type": "execute_result"
    }
   ],
   "source": [
    "t"
   ]
  },
  {
   "cell_type": "code",
   "execution_count": 33,
   "id": "978d953b",
   "metadata": {},
   "outputs": [],
   "source": [
    "u_init = np.zeros_like(n)\n",
    "u = u_init"
   ]
  },
  {
   "cell_type": "code",
   "execution_count": 34,
   "id": "67cd16ed",
   "metadata": {},
   "outputs": [],
   "source": [
    "for i in range(len(n)):\n",
    "    if -0.2 <= n[i] <= 0.2:\n",
    "        u_init[i] = 1"
   ]
  },
  {
   "cell_type": "code",
   "execution_count": 35,
   "id": "8f5e5747",
   "metadata": {},
   "outputs": [
    {
     "ename": "SyntaxError",
     "evalue": "invalid syntax (4035798071.py, line 2)",
     "output_type": "error",
     "traceback": [
      "\u001b[0;36m  Cell \u001b[0;32mIn[35], line 2\u001b[0;36m\u001b[0m\n\u001b[0;31m    u[i] =\u001b[0m\n\u001b[0m           ^\u001b[0m\n\u001b[0;31mSyntaxError\u001b[0m\u001b[0;31m:\u001b[0m invalid syntax\n"
     ]
    }
   ],
   "source": [
    "dx = u[1]-u[0]\n",
    "dt = t[1]-t[0]\n",
    "for i in range(len(t)):\n",
    "    for i in range(len(n)):\n",
    "        u[i] = u[i] - dt*(u[i]-u[i-1])/dx\n",
    "    plt.plot(n,u)\n",
    "    plt.pause(0.01)\n",
    "plt.show()"
   ]
  },
  {
   "cell_type": "code",
   "execution_count": 2,
   "id": "d754aaf5",
   "metadata": {},
   "outputs": [
    {
     "data": {
      "text/plain": [
       "Text(0.5, 1.0, 'After ITM')"
      ]
     },
     "execution_count": 2,
     "metadata": {},
     "output_type": "execute_result"
    },
    {
     "data": {
      "image/png": "[encoded data removed]",
      "text/plain": [
       "<Figure size 432x288 with 1 Axes>"
      ]
     },
     "metadata": {
      "needs_background": "light"
     },
     "output_type": "display_data"
    }
   ],
   "source": [
    "from matplotlib import pyplot as plt\n",
    "import numpy as np\n",
    "\n",
    "n = np.linspace(0.1, 10)\n",
    "\n",
    "energy = 0.5*(n*n + 1/(n*n))\n",
    "\n",
    "plt.plot(n, energy)\n",
    "plt.xlabel('scaling factor')\n",
    "plt.ylabel('E/E0')\n",
    "plt.title('After ITM')"
   ]
  },
  {
   "cell_type": "code",
   "execution_count": 9,
   "id": "44cd5a5f",
   "metadata": {},
   "outputs": [
    {
     "data": {
      "text/plain": [
       "Text(0.5, 1.0, 'During ITM')"
      ]
     },
     "execution_count": 9,
     "metadata": {},
     "output_type": "execute_result"
    },
    {
     "data": {
      "image/png": "[encoded data removed]",
      "text/plain": [
       "<Figure size 432x288 with 1 Axes>"
      ]
     },
     "metadata": {
      "needs_background": "light"
     },
     "output_type": "display_data"
    }
   ],
   "source": [
    "energy2 = 0.5*(1 + 1/(n*n))\n",
    "\n",
    "plt.plot(n, energy2)\n",
    "plt.xlabel('scaling factor')\n",
    "plt.ylabel('E/E0')\n",
    "plt.title('During ITM')"
   ]
  },
  {
   "cell_type": "code",
   "execution_count": null,
   "id": "88b43076",
   "metadata": {},
   "outputs": [],
   "source": []
  }
 ],
 "metadata": {
  "kernelspec": {
   "display_name": "Python 3 (ipykernel)",
   "language": "python",
   "name": "python3"
  },
  "language_info": {
   "codemirror_mode": {
    "name": "ipython",
    "version": 3
   },
   "file_extension": ".py",
   "mimetype": "text/x-python",
   "name": "python",
   "nbconvert_exporter": "python",
   "pygments_lexer": "ipython3",
   "version": "3.10.6"
  }
 },
 "nbformat": 4,
 "nbformat_minor": 5
}
