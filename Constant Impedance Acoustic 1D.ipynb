{
 "cells": [
  {
   "cell_type": "code",
   "execution_count": 120,
   "id": "35fa79d4",
   "metadata": {},
   "outputs": [],
   "source": [
    "p = var('p')\n",
    "u = var('u')\n",
    "x = var('x')\n",
    "t = var('t')\n",
    "z0 = var('z0')\n",
    "c0 = var('c0')\n",
    "rho0(z0, c0) = z0/c0\n",
    "K(z0, c0) = z0*c0\n",
    "k = var('k')\n",
    "w = var('w')\n",
    "n = var('n')"
   ]
  },
  {
   "cell_type": "code",
   "execution_count": 121,
   "id": "020ec861",
   "metadata": {},
   "outputs": [],
   "source": [
    "p0(x) = z0*cos(k*x)\n",
    "u0(x) = 1*cos(k*x)"
   ]
  },
  {
   "cell_type": "code",
   "execution_count": 122,
   "id": "86e317a8",
   "metadata": {},
   "outputs": [
    {
     "data": {
      "text/plain": [
       "x |--> z0*cos(k*x)"
      ]
     },
     "execution_count": 122,
     "metadata": {},
     "output_type": "execute_result"
    }
   ],
   "source": [
    "p0"
   ]
  },
  {
   "cell_type": "code",
   "execution_count": 123,
   "id": "b059f211",
   "metadata": {},
   "outputs": [],
   "source": [
    "p(x, t) = 0.5*(p0(x + c0*t) + p0(x - c0*t)) - 0.5*z0*(u0(x+c0*t) - u0(x-c0*t))"
   ]
  },
  {
   "cell_type": "code",
   "execution_count": 124,
   "id": "c35ee7ff",
   "metadata": {},
   "outputs": [
    {
     "data": {
      "text/plain": [
       "1.0*z0*cos(-c0*k*t + k*x)"
      ]
     },
     "execution_count": 124,
     "metadata": {},
     "output_type": "execute_result"
    }
   ],
   "source": [
    "p.simplify_full()"
   ]
  },
  {
   "cell_type": "code",
   "execution_count": 125,
   "id": "a15d513e",
   "metadata": {},
   "outputs": [],
   "source": [
    "u(x, t) = -0.5*(p0(x + c0*t) - p0(x - c0*t))/(z0) + 0.5*(u0(x+c0*t) + u0(x - c0*t))"
   ]
  },
  {
   "cell_type": "code",
   "execution_count": 126,
   "id": "48f5d975",
   "metadata": {},
   "outputs": [
    {
     "data": {
      "text/plain": [
       "1.0*cos(-c0*k*t + k*x)"
      ]
     },
     "execution_count": 126,
     "metadata": {},
     "output_type": "execute_result"
    }
   ],
   "source": [
    "u.simplify_full()"
   ]
  },
  {
   "cell_type": "code",
   "execution_count": 127,
   "id": "6db511e0",
   "metadata": {},
   "outputs": [],
   "source": [
    "test = diff(p, t) + rho0*c0*c0*diff(u,x)"
   ]
  },
  {
   "cell_type": "code",
   "execution_count": 128,
   "id": "ce7a51fb",
   "metadata": {},
   "outputs": [
    {
     "data": {
      "text/plain": [
       "0"
      ]
     },
     "execution_count": 128,
     "metadata": {},
     "output_type": "execute_result"
    }
   ],
   "source": [
    "test.simplify_full()"
   ]
  },
  {
   "cell_type": "code",
   "execution_count": 129,
   "id": "9a7b75c5",
   "metadata": {},
   "outputs": [],
   "source": [
    "from sage.symbolic.integration.integral import definite_integral\n",
    "energy = definite_integral(0.5*p(x, t)*p(x, t)/(z0*c0) + 0.5*z0*u(x,t)*u(x,t)/c0, x, -pi/k, pi/k)"
   ]
  },
  {
   "cell_type": "code",
   "execution_count": 130,
   "id": "9ba62b14",
   "metadata": {},
   "outputs": [
    {
     "data": {
      "text/plain": [
       "1.0*pi*z0/(c0*k)"
      ]
     },
     "execution_count": 130,
     "metadata": {},
     "output_type": "execute_result"
    }
   ],
   "source": [
    "energy.simplify_full()"
   ]
  },
  {
   "cell_type": "code",
   "execution_count": 131,
   "id": "4a5831e5",
   "metadata": {},
   "outputs": [],
   "source": [
    "tITMminus = var('tITMminus')"
   ]
  },
  {
   "cell_type": "code",
   "execution_count": 132,
   "id": "cebf0fd0",
   "metadata": {},
   "outputs": [],
   "source": [
    "p0tITMminus(x) = p(x, tITMminus)"
   ]
  },
  {
   "cell_type": "code",
   "execution_count": 133,
   "id": "98b52a03",
   "metadata": {},
   "outputs": [],
   "source": [
    "u0tITMminus(x) = u(x, tITMminus)"
   ]
  },
  {
   "cell_type": "code",
   "execution_count": 134,
   "id": "70594259",
   "metadata": {},
   "outputs": [
    {
     "data": {
      "text/plain": [
       "1.0*z0*cos(-c0*k*tITMminus + k*x)"
      ]
     },
     "execution_count": 134,
     "metadata": {},
     "output_type": "execute_result"
    }
   ],
   "source": [
    "p0tITMminus.simplify_full()"
   ]
  },
  {
   "cell_type": "code",
   "execution_count": 135,
   "id": "cb524a08",
   "metadata": {},
   "outputs": [
    {
     "data": {
      "text/plain": [
       "1.0*cos(-c0*k*tITMminus + k*x)"
      ]
     },
     "execution_count": 135,
     "metadata": {},
     "output_type": "execute_result"
    }
   ],
   "source": [
    "u0tITMminus.simplify_full()"
   ]
  },
  {
   "cell_type": "code",
   "execution_count": 136,
   "id": "2546f5dc",
   "metadata": {},
   "outputs": [],
   "source": [
    "p2(x, t) = 0.5*(p0tITMminus(x + n*c0*(t-tITMminus)) + p0tITMminus(x - n*c0*(t-tITMminus))) - 0.5*z0*(u0tITMminus(x + n*c0*(t-tITMminus)) - u0tITMminus(x - n*c0*(t-tITMminus)))\n",
    "u2(x, t) = -0.5*(p0tITMminus(x + n*c0*(t-tITMminus)) - p0tITMminus(x - n*c0*(t-tITMminus)))/(z0) + 0.5*(u0tITMminus(x + n*c0*(t-tITMminus)) + u0tITMminus(x - n*c0*(t-tITMminus)))"
   ]
  },
  {
   "cell_type": "code",
   "execution_count": 137,
   "id": "f8d0319c",
   "metadata": {},
   "outputs": [
    {
     "data": {
      "text/plain": [
       "1.0 \\, z_{0} \\cos\\left(-c_{0} k n t + {\\left(c_{0} k n - c_{0} k\\right)} \\mathit{tITMminus} + k x\\right)"
      ]
     },
     "execution_count": 137,
     "metadata": {},
     "output_type": "execute_result"
    }
   ],
   "source": [
    "p2.simplify_full()\n",
    "latex(p2.simplify_full())"
   ]
  },
  {
   "cell_type": "code",
   "execution_count": 138,
   "id": "4855e02f",
   "metadata": {},
   "outputs": [
    {
     "data": {
      "text/plain": [
       "1.0 \\, \\cos\\left(-c_{0} k n t + {\\left(c_{0} k n - c_{0} k\\right)} \\mathit{tITMminus} + k x\\right)"
      ]
     },
     "execution_count": 138,
     "metadata": {},
     "output_type": "execute_result"
    }
   ],
   "source": [
    "u2.simplify_full()\n",
    "latex(u2.simplify_full())"
   ]
  },
  {
   "cell_type": "code",
   "execution_count": 141,
   "id": "4bfd9078",
   "metadata": {},
   "outputs": [],
   "source": [
    "test1 = diff(p2, t) + z0*n*c0*diff(u2, x)\n",
    "test2 = rho0*diff(u2, t)/n + diff(p2, x)"
   ]
  },
  {
   "cell_type": "code",
   "execution_count": 142,
   "id": "7bbb6f50",
   "metadata": {},
   "outputs": [
    {
     "data": {
      "text/plain": [
       "0"
      ]
     },
     "execution_count": 142,
     "metadata": {},
     "output_type": "execute_result"
    }
   ],
   "source": [
    "test1.simplify_full()"
   ]
  },
  {
   "cell_type": "code",
   "execution_count": 143,
   "id": "b593f26c",
   "metadata": {},
   "outputs": [
    {
     "data": {
      "text/plain": [
       "0"
      ]
     },
     "execution_count": 143,
     "metadata": {},
     "output_type": "execute_result"
    }
   ],
   "source": [
    "test2.simplify_full()"
   ]
  },
  {
   "cell_type": "code",
   "execution_count": 144,
   "id": "8a989690",
   "metadata": {},
   "outputs": [],
   "source": [
    "energy2 = definite_integral(0.5*p2(x, t)*p2(x, t)/(z0*n*c0) + 0.5*z0*u2(x,t)*u2(x,t)/(n*c0), x, -pi/k, pi/k)"
   ]
  },
  {
   "cell_type": "code",
   "execution_count": 146,
   "id": "ed96dd83",
   "metadata": {},
   "outputs": [
    {
     "data": {
      "text/plain": [
       "\\frac{1.0 \\, \\pi z_{0}}{c_{0} k n}"
      ]
     },
     "execution_count": 146,
     "metadata": {},
     "output_type": "execute_result"
    }
   ],
   "source": [
    "energy2.simplify_full()\n",
    "latex(energy2.simplify_full())"
   ]
  },
  {
   "cell_type": "code",
   "execution_count": 147,
   "id": "9df90af8",
   "metadata": {},
   "outputs": [
    {
     "data": {
      "text/plain": [
       "1.0/n"
      ]
     },
     "execution_count": 147,
     "metadata": {},
     "output_type": "execute_result"
    }
   ],
   "source": [
    "ratio = energy2/energy\n",
    "ratio = ratio.simplify_full()\n",
    "ratio.factorial_simplify()"
   ]
  },
  {
   "cell_type": "code",
   "execution_count": 148,
   "id": "143cb090",
   "metadata": {},
   "outputs": [],
   "source": [
    "tau = var('tau')\n",
    "tITMplus(tITMminus, tau) = tITMminus + tau"
   ]
  },
  {
   "cell_type": "code",
   "execution_count": 149,
   "id": "e67dec2f",
   "metadata": {},
   "outputs": [],
   "source": [
    "p0tITMplus(x) = p2(x, tITMplus)\n",
    "u0tITMplus(x) = u2(x, tITMplus)"
   ]
  },
  {
   "cell_type": "code",
   "execution_count": 150,
   "id": "58a55efc",
   "metadata": {},
   "outputs": [
    {
     "data": {
      "text/plain": [
       "1.0*z0*cos(-c0*k*n*tau - c0*k*tITMminus + k*x)"
      ]
     },
     "execution_count": 150,
     "metadata": {},
     "output_type": "execute_result"
    }
   ],
   "source": [
    "p0tITMplus.simplify_full()"
   ]
  },
  {
   "cell_type": "code",
   "execution_count": 151,
   "id": "c5e1b313",
   "metadata": {},
   "outputs": [
    {
     "data": {
      "text/plain": [
       "1.0*cos(-c0*k*n*tau - c0*k*tITMminus + k*x)"
      ]
     },
     "execution_count": 151,
     "metadata": {},
     "output_type": "execute_result"
    }
   ],
   "source": [
    "u0tITMplus.simplify_full()"
   ]
  },
  {
   "cell_type": "code",
   "execution_count": 152,
   "id": "94e6659c",
   "metadata": {},
   "outputs": [],
   "source": [
    "p3(x, t) = 0.5*(p0tITMplus(x + c0*(t-tITMplus)) + p0tITMplus(x - c0*(t-tITMplus))) - 0.5*z0*(u0tITMplus(x + c0*(t-tITMplus)) - u0tITMplus(x - c0*(t-tITMplus)))\n",
    "u3(x, t) = -0.5*(p0tITMplus(x + c0*(t-tITMplus)) - p0tITMplus(x - c0*(t-tITMplus)))/(z0) + 0.5*(u0tITMplus(x + c0*(t-tITMplus)) + u0tITMplus(x - c0*(t-tITMplus)))"
   ]
  },
  {
   "cell_type": "code",
   "execution_count": 153,
   "id": "0250b45b",
   "metadata": {},
   "outputs": [
    {
     "data": {
      "text/plain": [
       "1.0 \\, z_{0} \\cos\\left(-c_{0} k t - {\\left(c_{0} k n - c_{0} k\\right)} \\tau + k x\\right)"
      ]
     },
     "execution_count": 153,
     "metadata": {},
     "output_type": "execute_result"
    }
   ],
   "source": [
    "p3.simplify_full()\n",
    "latex(p3.simplify_full())"
   ]
  },
  {
   "cell_type": "code",
   "execution_count": 154,
   "id": "b9f43044",
   "metadata": {},
   "outputs": [
    {
     "data": {
      "text/plain": [
       "1.0 \\, \\cos\\left(-c_{0} k t - {\\left(c_{0} k n - c_{0} k\\right)} \\tau + k x\\right)"
      ]
     },
     "execution_count": 154,
     "metadata": {},
     "output_type": "execute_result"
    }
   ],
   "source": [
    "u3.simplify_full()\n",
    "latex(u3.simplify_full())"
   ]
  },
  {
   "cell_type": "code",
   "execution_count": 113,
   "id": "08bb4549",
   "metadata": {},
   "outputs": [],
   "source": [
    "test1 = diff(p3, t) + rho0*c0*c0*diff(u3, x)\n",
    "test2 = rho0*diff(u3, t) + diff(p3, x)"
   ]
  },
  {
   "cell_type": "code",
   "execution_count": 114,
   "id": "3499e6da",
   "metadata": {},
   "outputs": [
    {
     "data": {
      "text/plain": [
       "0"
      ]
     },
     "execution_count": 114,
     "metadata": {},
     "output_type": "execute_result"
    }
   ],
   "source": [
    "test1.simplify_full()"
   ]
  },
  {
   "cell_type": "code",
   "execution_count": 115,
   "id": "f810d773",
   "metadata": {},
   "outputs": [
    {
     "data": {
      "text/plain": [
       "0"
      ]
     },
     "execution_count": 115,
     "metadata": {},
     "output_type": "execute_result"
    }
   ],
   "source": [
    "test2.simplify_full()"
   ]
  },
  {
   "cell_type": "code",
   "execution_count": 116,
   "id": "649cd59f",
   "metadata": {},
   "outputs": [],
   "source": [
    "energy3 = definite_integral(0.5*p3(x, t)*p3(x, t)/(z0*c0) + 0.5*z0*u3(x,t)*u3(x,t)/c0, x, -pi/k, pi/k)"
   ]
  },
  {
   "cell_type": "code",
   "execution_count": 117,
   "id": "91d7b49f",
   "metadata": {},
   "outputs": [
    {
     "data": {
      "text/plain": [
       "1.0*pi*z0/(c0*k)"
      ]
     },
     "execution_count": 117,
     "metadata": {},
     "output_type": "execute_result"
    }
   ],
   "source": [
    "energy3.simplify_full()"
   ]
  },
  {
   "cell_type": "code",
   "execution_count": 118,
   "id": "0ee398c2",
   "metadata": {},
   "outputs": [],
   "source": [
    "ratio = energy3/energy"
   ]
  },
  {
   "cell_type": "code",
   "execution_count": 119,
   "id": "63bf2195",
   "metadata": {},
   "outputs": [
    {
     "data": {
      "text/plain": [
       "1.0"
      ]
     },
     "execution_count": 119,
     "metadata": {},
     "output_type": "execute_result"
    }
   ],
   "source": [
    "ratio.simplify_full()"
   ]
  },
  {
   "cell_type": "code",
   "execution_count": null,
   "id": "30415b7f",
   "metadata": {},
   "outputs": [],
   "source": []
  }
 ],
 "metadata": {
  "kernelspec": {
   "display_name": "SageMath 9.5",
   "language": "sage",
   "name": "sagemath"
  },
  "language_info": {
   "codemirror_mode": {
    "name": "ipython",
    "version": 3
   },
   "file_extension": ".py",
   "mimetype": "text/x-python",
   "name": "python",
   "nbconvert_exporter": "python",
   "pygments_lexer": "ipython3",
   "version": "3.10.6"
  }
 },
 "nbformat": 4,
 "nbformat_minor": 5
}
