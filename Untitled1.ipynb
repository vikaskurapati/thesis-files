{
 "cells": [
  {
   "cell_type": "code",
   "execution_count": 1,
   "id": "ade66b1c",
   "metadata": {},
   "outputs": [],
   "source": [
    "x1 = var('x1')\n",
    "x2 = var('x2')\n",
    "x3 = var('x3')\n",
    "x(x1, x2, x3) = vector([x1, x2, x3])\n",
    "t = var('t')\n",
    "rho0 = var('rho0')\n",
    "K0 = var('K0')\n",
    "q0 = var('q0')\n",
    "w = var('w')\n",
    "W = var('W')\n",
    "k1 = var('k1')\n",
    "k2 = var('k2')\n",
    "k3 = var('k3')\n",
    "k = vector([k1,k2,k3])\n",
    "n = var('n')\n",
    "from sage.symbolic.integration.integral import definite_integral"
   ]
  },
  {
   "cell_type": "code",
   "execution_count": 2,
   "id": "83fd23f9",
   "metadata": {},
   "outputs": [],
   "source": [
    "A = Matrix([[0, K0, 0, 0],\n",
    "            [1/rho0, 0, 0, 0], \n",
    "            [0,0,0,0], \n",
    "            [0,0,0,0]])\n",
    "B = Matrix([[0, 0, K0, 0],\n",
    "            [0, 0, 0, 0], \n",
    "            [1/rho0,0,0,0], \n",
    "            [0,0,0,0]])\n",
    "C = Matrix([[0, 0, 0, K0],\n",
    "            [0, 0, 0, 0], \n",
    "            [0,0,0,0], \n",
    "            [1/rho0,0,0,0]])"
   ]
  },
  {
   "cell_type": "code",
   "execution_count": 3,
   "id": "ac03e70c",
   "metadata": {},
   "outputs": [
    {
     "data": {
      "text/plain": [
       "(x1, x2, x3) |--> (x1, x2, x3)"
      ]
     },
     "execution_count": 3,
     "metadata": {},
     "output_type": "execute_result"
    }
   ],
   "source": [
    "x"
   ]
  },
  {
   "cell_type": "code",
   "execution_count": 4,
   "id": "11e349e6",
   "metadata": {},
   "outputs": [
    {
     "data": {
      "text/plain": [
       "(k1, k2, k3)"
      ]
     },
     "execution_count": 4,
     "metadata": {},
     "output_type": "execute_result"
    }
   ],
   "source": [
    "k"
   ]
  },
  {
   "cell_type": "code",
   "execution_count": 5,
   "id": "785e3617",
   "metadata": {},
   "outputs": [],
   "source": [
    "A_hat = A*k1 + B*k2 + C*k3"
   ]
  },
  {
   "cell_type": "code",
   "execution_count": 7,
   "id": "7bc1361d",
   "metadata": {},
   "outputs": [
    {
     "data": {
      "text/plain": [
       "\\left(\\begin{array}{rrrr}\n",
       "0 & K_{0} k_{1} & K_{0} k_{2} & K_{0} k_{3} \\\\\n",
       "\\frac{k_{1}}{\\rho_{0}} & 0 & 0 & 0 \\\\\n",
       "\\frac{k_{2}}{\\rho_{0}} & 0 & 0 & 0 \\\\\n",
       "\\frac{k_{3}}{\\rho_{0}} & 0 & 0 & 0\n",
       "\\end{array}\\right)"
      ]
     },
     "execution_count": 7,
     "metadata": {},
     "output_type": "execute_result"
    }
   ],
   "source": [
    "latex(A_hat)"
   ]
  },
  {
   "cell_type": "code",
   "execution_count": 8,
   "id": "041ac19d",
   "metadata": {},
   "outputs": [],
   "source": [
    "c = A_hat.eigenvalues()"
   ]
  },
  {
   "cell_type": "code",
   "execution_count": 10,
   "id": "9a2cf358",
   "metadata": {},
   "outputs": [
    {
     "data": {
      "text/plain": [
       "(-\\sqrt{\\frac{K_{0} k_{1}^{2}}{\\rho_{0}} + \\frac{K_{0} k_{2}^{2}}{\\rho_{0}} + \\frac{K_{0} k_{3}^{2}}{\\rho_{0}}},\n",
       " \\sqrt{\\frac{K_{0} k_{1}^{2}}{\\rho_{0}} + \\frac{K_{0} k_{2}^{2}}{\\rho_{0}} + \\frac{K_{0} k_{3}^{2}}{\\rho_{0}}},\n",
       " 0,\n",
       " 0)"
      ]
     },
     "execution_count": 10,
     "metadata": {},
     "output_type": "execute_result"
    }
   ],
   "source": [
    "latex(c[0]), latex(c[1]), latex(c[2]), latex(c[3])"
   ]
  },
  {
   "cell_type": "code",
   "execution_count": 12,
   "id": "061e6e07",
   "metadata": {},
   "outputs": [],
   "source": [
    "R = A_hat.eigenmatrix_right()[1]"
   ]
  },
  {
   "cell_type": "code",
   "execution_count": 13,
   "id": "d2df70ce",
   "metadata": {},
   "outputs": [
    {
     "data": {
      "text/plain": [
       "[                                                  1                                                   1                                                   0                                                   0]\n",
       "[-k1/(rho0*sqrt((K0*k1^2 + K0*k2^2 + K0*k3^2)/rho0))  k1/(rho0*sqrt((K0*k1^2 + K0*k2^2 + K0*k3^2)/rho0))                                                   1                                                   0]\n",
       "[-k2/(rho0*sqrt((K0*k1^2 + K0*k2^2 + K0*k3^2)/rho0))  k2/(rho0*sqrt((K0*k1^2 + K0*k2^2 + K0*k3^2)/rho0))                                                   0                                                   1]\n",
       "[-k3/(rho0*sqrt((K0*k1^2 + K0*k2^2 + K0*k3^2)/rho0))  k3/(rho0*sqrt((K0*k1^2 + K0*k2^2 + K0*k3^2)/rho0))                                              -k1/k3                                              -k2/k3]"
      ]
     },
     "execution_count": 13,
     "metadata": {},
     "output_type": "execute_result"
    }
   ],
   "source": [
    "R"
   ]
  },
  {
   "cell_type": "code",
   "execution_count": 18,
   "id": "306fed69",
   "metadata": {},
   "outputs": [
    {
     "data": {
      "text/plain": [
       "\\left(\\begin{array}{r}\n",
       "1 \\\\\n",
       "-\\frac{k_{1}}{\\rho_{0} \\sqrt{\\frac{K_{0} k_{1}^{2} + K_{0} k_{2}^{2} + K_{0} k_{3}^{2}}{\\rho_{0}}}} \\\\\n",
       "-\\frac{k_{2}}{\\rho_{0} \\sqrt{\\frac{K_{0} k_{1}^{2} + K_{0} k_{2}^{2} + K_{0} k_{3}^{2}}{\\rho_{0}}}} \\\\\n",
       "-\\frac{k_{3}}{\\rho_{0} \\sqrt{\\frac{K_{0} k_{1}^{2} + K_{0} k_{2}^{2} + K_{0} k_{3}^{2}}{\\rho_{0}}}}\n",
       "\\end{array}\\right)"
      ]
     },
     "execution_count": 18,
     "metadata": {},
     "output_type": "execute_result"
    }
   ],
   "source": [
    "latex(R[:,0].simplify_full())"
   ]
  },
  {
   "cell_type": "code",
   "execution_count": 15,
   "id": "549e273d",
   "metadata": {},
   "outputs": [
    {
     "data": {
      "text/plain": [
       "\\left(\\begin{array}{r}\n",
       "1 \\\\\n",
       "\\frac{k_{1}}{\\rho_{0} \\sqrt{\\frac{K_{0} k_{1}^{2} + K_{0} k_{2}^{2} + K_{0} k_{3}^{2}}{\\rho_{0}}}} \\\\\n",
       "\\frac{k_{2}}{\\rho_{0} \\sqrt{\\frac{K_{0} k_{1}^{2} + K_{0} k_{2}^{2} + K_{0} k_{3}^{2}}{\\rho_{0}}}} \\\\\n",
       "\\frac{k_{3}}{\\rho_{0} \\sqrt{\\frac{K_{0} k_{1}^{2} + K_{0} k_{2}^{2} + K_{0} k_{3}^{2}}{\\rho_{0}}}}\n",
       "\\end{array}\\right)"
      ]
     },
     "execution_count": 15,
     "metadata": {},
     "output_type": "execute_result"
    }
   ],
   "source": [
    "latex(R[:,1])"
   ]
  },
  {
   "cell_type": "code",
   "execution_count": 16,
   "id": "e955acd0",
   "metadata": {},
   "outputs": [
    {
     "data": {
      "text/plain": [
       "\\left(\\begin{array}{r}\n",
       "0 \\\\\n",
       "1 \\\\\n",
       "0 \\\\\n",
       "-\\frac{k_{1}}{k_{3}}\n",
       "\\end{array}\\right)"
      ]
     },
     "execution_count": 16,
     "metadata": {},
     "output_type": "execute_result"
    }
   ],
   "source": [
    "latex(R[:,2])"
   ]
  },
  {
   "cell_type": "code",
   "execution_count": 17,
   "id": "6b181794",
   "metadata": {},
   "outputs": [
    {
     "data": {
      "text/plain": [
       "\\left(\\begin{array}{r}\n",
       "0 \\\\\n",
       "0 \\\\\n",
       "1 \\\\\n",
       "-\\frac{k_{2}}{k_{3}}\n",
       "\\end{array}\\right)"
      ]
     },
     "execution_count": 17,
     "metadata": {},
     "output_type": "execute_result"
    }
   ],
   "source": [
    "latex(R[:,3])"
   ]
  },
  {
   "cell_type": "code",
   "execution_count": 20,
   "id": "ec3ab73b",
   "metadata": {},
   "outputs": [],
   "source": [
    "q(x1,x2,x3,t) = vector(R[:,1].list())*cos(k.dot_product(x) - c[1]*t)"
   ]
  },
  {
   "cell_type": "code",
   "execution_count": 21,
   "id": "212560c1",
   "metadata": {},
   "outputs": [],
   "source": [
    "test1 = (q.diff(t) + A*q.diff(x1) + B*q.diff(x2) + C*q.diff(x3))[0]\n",
    "test2 = (q.diff(t) + A*q.diff(x1) + B*q.diff(x2) + C*q.diff(x3))[1]\n",
    "test3 = (q.diff(t) + A*q.diff(x1) + B*q.diff(x2) + C*q.diff(x3))[2]\n",
    "test4 = (q.diff(t) + A*q.diff(x1) + B*q.diff(x2) + C*q.diff(x3))[3]"
   ]
  },
  {
   "cell_type": "code",
   "execution_count": 22,
   "id": "37b21038",
   "metadata": {},
   "outputs": [
    {
     "data": {
      "text/plain": [
       "((x1, x2, x3, t) |--> 0,\n",
       " (x1, x2, x3, t) |--> 0,\n",
       " (x1, x2, x3, t) |--> 0,\n",
       " (x1, x2, x3, t) |--> 0)"
      ]
     },
     "execution_count": 22,
     "metadata": {},
     "output_type": "execute_result"
    }
   ],
   "source": [
    "test1.simplify_full(), test2.simplify_full(), test3.simplify_full(), test4.simplify_full()"
   ]
  },
  {
   "cell_type": "code",
   "execution_count": 23,
   "id": "fb6be753",
   "metadata": {},
   "outputs": [
    {
     "data": {
      "text/plain": [
       "4.0*pi^3/(K0*k1*k2*k3)"
      ]
     },
     "execution_count": 23,
     "metadata": {},
     "output_type": "execute_result"
    }
   ],
   "source": [
    "definite_integral(definite_integral(definite_integral(0.5*q(x1,x2,x3,t)[0]*q(x1,x2,x3,t)[0]/K0 + 0.5*rho0*(q(x1,x2,x3,t)[1]*q(x1,x2,x3,t)[1]+q(x1,x2,x3,t)[2]*q(x1,x2,x3,t)[2]+q(x1,x2,x3,t)[3]*q(x1,x2,x3,t)[3]),x1,-pi/k1,pi/k1),x2,-pi/k2,pi/k2),x3, -pi/k3, pi/k3)"
   ]
  },
  {
   "cell_type": "code",
   "execution_count": 24,
   "id": "28daa7ae",
   "metadata": {},
   "outputs": [],
   "source": [
    "A2 = Matrix([[0, n*n*K0, 0, 0],\n",
    "            [1/rho0, 0, 0, 0], \n",
    "            [0,0,0,0], \n",
    "            [0,0,0,0]])\n",
    "B2 = Matrix([[0, 0, n*n*K0, 0],\n",
    "            [0, 0, 0, 0], \n",
    "            [1/rho0,0,0,0], \n",
    "            [0,0,0,0]])\n",
    "C2 = Matrix([[0, 0, 0, n*n*K0],\n",
    "            [0, 0, 0, 0], \n",
    "            [0,0,0,0], \n",
    "            [1/rho0,0,0,0]])"
   ]
  },
  {
   "cell_type": "code",
   "execution_count": 25,
   "id": "9121e987",
   "metadata": {},
   "outputs": [
    {
     "data": {
      "text/plain": [
       "(x1, x2, x3) |--> (x1, x2, x3)"
      ]
     },
     "execution_count": 25,
     "metadata": {},
     "output_type": "execute_result"
    }
   ],
   "source": [
    "x"
   ]
  },
  {
   "cell_type": "code",
   "execution_count": 26,
   "id": "375a8206",
   "metadata": {},
   "outputs": [
    {
     "data": {
      "text/plain": [
       "(k1, k2, k3)"
      ]
     },
     "execution_count": 26,
     "metadata": {},
     "output_type": "execute_result"
    }
   ],
   "source": [
    "k"
   ]
  },
  {
   "cell_type": "code",
   "execution_count": 27,
   "id": "11603910",
   "metadata": {},
   "outputs": [],
   "source": [
    "A2_hat = A2*k1 + B2*k2 + C2*k3"
   ]
  },
  {
   "cell_type": "code",
   "execution_count": 28,
   "id": "66458dc2",
   "metadata": {},
   "outputs": [
    {
     "data": {
      "text/plain": [
       "[        0 K0*k1*n^2 K0*k2*n^2 K0*k3*n^2]\n",
       "[  k1/rho0         0         0         0]\n",
       "[  k2/rho0         0         0         0]\n",
       "[  k3/rho0         0         0         0]"
      ]
     },
     "execution_count": 28,
     "metadata": {},
     "output_type": "execute_result"
    }
   ],
   "source": [
    "A2_hat"
   ]
  },
  {
   "cell_type": "code",
   "execution_count": 29,
   "id": "a0b9e2c9",
   "metadata": {},
   "outputs": [
    {
     "data": {
      "text/plain": [
       "\\left(\\begin{array}{rrrr}\n",
       "0 & K_{0} k_{1} n^{2} & K_{0} k_{2} n^{2} & K_{0} k_{3} n^{2} \\\\\n",
       "\\frac{k_{1}}{\\rho_{0}} & 0 & 0 & 0 \\\\\n",
       "\\frac{k_{2}}{\\rho_{0}} & 0 & 0 & 0 \\\\\n",
       "\\frac{k_{3}}{\\rho_{0}} & 0 & 0 & 0\n",
       "\\end{array}\\right)"
      ]
     },
     "execution_count": 29,
     "metadata": {},
     "output_type": "execute_result"
    }
   ],
   "source": [
    "latex(A2_hat)"
   ]
  },
  {
   "cell_type": "code",
   "execution_count": 30,
   "id": "204f2f2a",
   "metadata": {},
   "outputs": [],
   "source": [
    "c2 = A2_hat.eigenvalues()"
   ]
  },
  {
   "cell_type": "code",
   "execution_count": 32,
   "id": "fab344b8",
   "metadata": {},
   "outputs": [
    {
     "data": {
      "text/plain": [
       "(-\\sqrt{\\frac{K_{0} k_{1}^{2}}{\\rho_{0}} + \\frac{K_{0} k_{2}^{2}}{\\rho_{0}} + \\frac{K_{0} k_{3}^{2}}{\\rho_{0}}} n,\n",
       " \\sqrt{\\frac{K_{0} k_{1}^{2}}{\\rho_{0}} + \\frac{K_{0} k_{2}^{2}}{\\rho_{0}} + \\frac{K_{0} k_{3}^{2}}{\\rho_{0}}} n,\n",
       " 0,\n",
       " 0)"
      ]
     },
     "execution_count": 32,
     "metadata": {},
     "output_type": "execute_result"
    }
   ],
   "source": [
    "latex(c2[0]), latex(c2[1]), latex(c2[2]), latex(c2[3])"
   ]
  },
  {
   "cell_type": "code",
   "execution_count": 41,
   "id": "90e5e059",
   "metadata": {},
   "outputs": [
    {
     "data": {
      "text/plain": [
       "(0, 0, 0, 0)"
      ]
     },
     "execution_count": 41,
     "metadata": {},
     "output_type": "execute_result"
    }
   ],
   "source": [
    "c2[0] - n*c[0], c2[1] - n*c[1],c2[2] - n*c[2],c2[3] - n*c[3]"
   ]
  },
  {
   "cell_type": "code",
   "execution_count": 34,
   "id": "1e4e0826",
   "metadata": {},
   "outputs": [],
   "source": [
    "R2 = A2_hat.eigenmatrix_right()[1]"
   ]
  },
  {
   "cell_type": "code",
   "execution_count": 35,
   "id": "9d8d8dbb",
   "metadata": {},
   "outputs": [
    {
     "data": {
      "text/plain": [
       "False"
      ]
     },
     "execution_count": 35,
     "metadata": {},
     "output_type": "execute_result"
    }
   ],
   "source": [
    "R2 == R"
   ]
  },
  {
   "cell_type": "code",
   "execution_count": 36,
   "id": "c570592c",
   "metadata": {},
   "outputs": [
    {
     "data": {
      "text/plain": [
       "[                                                  1]\n",
       "[-k1/(rho0*sqrt((K0*k1^2 + K0*k2^2 + K0*k3^2)/rho0))]\n",
       "[-k2/(rho0*sqrt((K0*k1^2 + K0*k2^2 + K0*k3^2)/rho0))]\n",
       "[-k3/(rho0*sqrt((K0*k1^2 + K0*k2^2 + K0*k3^2)/rho0))]"
      ]
     },
     "execution_count": 36,
     "metadata": {},
     "output_type": "execute_result"
    }
   ],
   "source": [
    "R[:,0]"
   ]
  },
  {
   "cell_type": "code",
   "execution_count": 37,
   "id": "f5b028b6",
   "metadata": {},
   "outputs": [
    {
     "data": {
      "text/plain": [
       "\\left(\\begin{array}{r}\n",
       "1 \\\\\n",
       "-\\frac{k_{1}}{n \\rho_{0} \\sqrt{\\frac{K_{0} k_{1}^{2} + K_{0} k_{2}^{2} + K_{0} k_{3}^{2}}{\\rho_{0}}}} \\\\\n",
       "-\\frac{k_{2}}{n \\rho_{0} \\sqrt{\\frac{K_{0} k_{1}^{2} + K_{0} k_{2}^{2} + K_{0} k_{3}^{2}}{\\rho_{0}}}} \\\\\n",
       "-\\frac{k_{3}}{n \\rho_{0} \\sqrt{\\frac{K_{0} k_{1}^{2} + K_{0} k_{2}^{2} + K_{0} k_{3}^{2}}{\\rho_{0}}}}\n",
       "\\end{array}\\right)"
      ]
     },
     "execution_count": 37,
     "metadata": {},
     "output_type": "execute_result"
    }
   ],
   "source": [
    "latex(R2[:,0])"
   ]
  },
  {
   "cell_type": "code",
   "execution_count": 38,
   "id": "7c12b77e",
   "metadata": {},
   "outputs": [
    {
     "data": {
      "text/plain": [
       "\\left(\\begin{array}{r}\n",
       "0 \\\\\n",
       "1 \\\\\n",
       "0 \\\\\n",
       "-\\frac{k_{1}}{k_{3}}\n",
       "\\end{array}\\right)"
      ]
     },
     "execution_count": 38,
     "metadata": {},
     "output_type": "execute_result"
    }
   ],
   "source": [
    "latex(R2[:,2])"
   ]
  },
  {
   "cell_type": "code",
   "execution_count": 39,
   "id": "14dce30b",
   "metadata": {},
   "outputs": [
    {
     "data": {
      "text/plain": [
       "\\left(\\begin{array}{r}\n",
       "0 \\\\\n",
       "0 \\\\\n",
       "1 \\\\\n",
       "-\\frac{k_{2}}{k_{3}}\n",
       "\\end{array}\\right)"
      ]
     },
     "execution_count": 39,
     "metadata": {},
     "output_type": "execute_result"
    }
   ],
   "source": [
    "latex(R2[:,3])"
   ]
  },
  {
   "cell_type": "code",
   "execution_count": 40,
   "id": "1f5b4570",
   "metadata": {},
   "outputs": [
    {
     "data": {
      "text/plain": [
       "\\left(\\begin{array}{r}\n",
       "1 \\\\\n",
       "\\frac{k_{1}}{n \\rho_{0} \\sqrt{\\frac{K_{0} k_{1}^{2} + K_{0} k_{2}^{2} + K_{0} k_{3}^{2}}{\\rho_{0}}}} \\\\\n",
       "\\frac{k_{2}}{n \\rho_{0} \\sqrt{\\frac{K_{0} k_{1}^{2} + K_{0} k_{2}^{2} + K_{0} k_{3}^{2}}{\\rho_{0}}}} \\\\\n",
       "\\frac{k_{3}}{n \\rho_{0} \\sqrt{\\frac{K_{0} k_{1}^{2} + K_{0} k_{2}^{2} + K_{0} k_{3}^{2}}{\\rho_{0}}}}\n",
       "\\end{array}\\right)"
      ]
     },
     "execution_count": 40,
     "metadata": {},
     "output_type": "execute_result"
    }
   ],
   "source": [
    "latex(R2[:,1])"
   ]
  },
  {
   "cell_type": "code",
   "execution_count": 41,
   "id": "2ff0d47e",
   "metadata": {},
   "outputs": [],
   "source": [
    "phi1 = var('phi1')\n",
    "phi2 = var('phi2')\n",
    "w1 = var('w1')\n",
    "w2 = var('w2')\n",
    "q2(x1,x2,x3,t) = w1*vector(R2[:,0].list())*cos(k.dot_product(x) - c2[0]*t + phi2) + w2*vector(R2[:,1].list())*cos(k.dot_product(x) - c2[1]*t + phi1)"
   ]
  },
  {
   "cell_type": "code",
   "execution_count": 42,
   "id": "b80eaa1d",
   "metadata": {},
   "outputs": [
    {
     "data": {
      "text/plain": [
       "\\left( x_{1}, x_{2}, x_{3}, t \\right) \\ {\\mapsto} \\ \\left(w_{1} \\cos\\left(\\sqrt{\\frac{K_{0} k_{1}^{2}}{\\rho_{0}} + \\frac{K_{0} k_{2}^{2}}{\\rho_{0}} + \\frac{K_{0} k_{3}^{2}}{\\rho_{0}}} n t + k_{1} x_{1} + k_{2} x_{2} + k_{3} x_{3} + \\phi_{2}\\right) + w_{2} \\cos\\left(-\\sqrt{\\frac{K_{0} k_{1}^{2}}{\\rho_{0}} + \\frac{K_{0} k_{2}^{2}}{\\rho_{0}} + \\frac{K_{0} k_{3}^{2}}{\\rho_{0}}} n t + k_{1} x_{1} + k_{2} x_{2} + k_{3} x_{3} + \\phi_{1}\\right),\\,-\\frac{k_{1} w_{1} \\cos\\left(\\sqrt{\\frac{K_{0} k_{1}^{2}}{\\rho_{0}} + \\frac{K_{0} k_{2}^{2}}{\\rho_{0}} + \\frac{K_{0} k_{3}^{2}}{\\rho_{0}}} n t + k_{1} x_{1} + k_{2} x_{2} + k_{3} x_{3} + \\phi_{2}\\right)}{n \\rho_{0} \\sqrt{\\frac{K_{0} k_{1}^{2} + K_{0} k_{2}^{2} + K_{0} k_{3}^{2}}{\\rho_{0}}}} + \\frac{k_{1} w_{2} \\cos\\left(-\\sqrt{\\frac{K_{0} k_{1}^{2}}{\\rho_{0}} + \\frac{K_{0} k_{2}^{2}}{\\rho_{0}} + \\frac{K_{0} k_{3}^{2}}{\\rho_{0}}} n t + k_{1} x_{1} + k_{2} x_{2} + k_{3} x_{3} + \\phi_{1}\\right)}{n \\rho_{0} \\sqrt{\\frac{K_{0} k_{1}^{2} + K_{0} k_{2}^{2} + K_{0} k_{3}^{2}}{\\rho_{0}}}},\\,-\\frac{k_{2} w_{1} \\cos\\left(\\sqrt{\\frac{K_{0} k_{1}^{2}}{\\rho_{0}} + \\frac{K_{0} k_{2}^{2}}{\\rho_{0}} + \\frac{K_{0} k_{3}^{2}}{\\rho_{0}}} n t + k_{1} x_{1} + k_{2} x_{2} + k_{3} x_{3} + \\phi_{2}\\right)}{n \\rho_{0} \\sqrt{\\frac{K_{0} k_{1}^{2} + K_{0} k_{2}^{2} + K_{0} k_{3}^{2}}{\\rho_{0}}}} + \\frac{k_{2} w_{2} \\cos\\left(-\\sqrt{\\frac{K_{0} k_{1}^{2}}{\\rho_{0}} + \\frac{K_{0} k_{2}^{2}}{\\rho_{0}} + \\frac{K_{0} k_{3}^{2}}{\\rho_{0}}} n t + k_{1} x_{1} + k_{2} x_{2} + k_{3} x_{3} + \\phi_{1}\\right)}{n \\rho_{0} \\sqrt{\\frac{K_{0} k_{1}^{2} + K_{0} k_{2}^{2} + K_{0} k_{3}^{2}}{\\rho_{0}}}},\\,-\\frac{k_{3} w_{1} \\cos\\left(\\sqrt{\\frac{K_{0} k_{1}^{2}}{\\rho_{0}} + \\frac{K_{0} k_{2}^{2}}{\\rho_{0}} + \\frac{K_{0} k_{3}^{2}}{\\rho_{0}}} n t + k_{1} x_{1} + k_{2} x_{2} + k_{3} x_{3} + \\phi_{2}\\right)}{n \\rho_{0} \\sqrt{\\frac{K_{0} k_{1}^{2} + K_{0} k_{2}^{2} + K_{0} k_{3}^{2}}{\\rho_{0}}}} + \\frac{k_{3} w_{2} \\cos\\left(-\\sqrt{\\frac{K_{0} k_{1}^{2}}{\\rho_{0}} + \\frac{K_{0} k_{2}^{2}}{\\rho_{0}} + \\frac{K_{0} k_{3}^{2}}{\\rho_{0}}} n t + k_{1} x_{1} + k_{2} x_{2} + k_{3} x_{3} + \\phi_{1}\\right)}{n \\rho_{0} \\sqrt{\\frac{K_{0} k_{1}^{2} + K_{0} k_{2}^{2} + K_{0} k_{3}^{2}}{\\rho_{0}}}}\\right)"
      ]
     },
     "execution_count": 42,
     "metadata": {},
     "output_type": "execute_result"
    }
   ],
   "source": [
    "latex(q2)"
   ]
  },
  {
   "cell_type": "code",
   "execution_count": 44,
   "id": "456d277c",
   "metadata": {},
   "outputs": [
    {
     "data": {
      "text/plain": [
       "\\left(\\begin{array}{r}\n",
       "\\left( x_{1}, x_{2}, x_{3} \\right) \\ {\\mapsto} \\ w_{1} \\cos\\left(\\sqrt{\\frac{K_{0} k_{1}^{2}}{\\rho_{0}} + \\frac{K_{0} k_{2}^{2}}{\\rho_{0}} + \\frac{K_{0} k_{3}^{2}}{\\rho_{0}}} n t + k_{1} x_{1} + k_{2} x_{2} + k_{3} x_{3} + \\phi_{2}\\right) \\\\\n",
       "\\left( x_{1}, x_{2}, x_{3} \\right) \\ {\\mapsto} \\ -\\frac{k_{1} w_{1} \\cos\\left(\\sqrt{\\frac{K_{0} k_{1}^{2}}{\\rho_{0}} + \\frac{K_{0} k_{2}^{2}}{\\rho_{0}} + \\frac{K_{0} k_{3}^{2}}{\\rho_{0}}} n t + k_{1} x_{1} + k_{2} x_{2} + k_{3} x_{3} + \\phi_{2}\\right)}{n \\rho_{0} \\sqrt{\\frac{K_{0} k_{1}^{2} + K_{0} k_{2}^{2} + K_{0} k_{3}^{2}}{\\rho_{0}}}} \\\\\n",
       "\\left( x_{1}, x_{2}, x_{3} \\right) \\ {\\mapsto} \\ -\\frac{k_{2} w_{1} \\cos\\left(\\sqrt{\\frac{K_{0} k_{1}^{2}}{\\rho_{0}} + \\frac{K_{0} k_{2}^{2}}{\\rho_{0}} + \\frac{K_{0} k_{3}^{2}}{\\rho_{0}}} n t + k_{1} x_{1} + k_{2} x_{2} + k_{3} x_{3} + \\phi_{2}\\right)}{n \\rho_{0} \\sqrt{\\frac{K_{0} k_{1}^{2} + K_{0} k_{2}^{2} + K_{0} k_{3}^{2}}{\\rho_{0}}}} \\\\\n",
       "\\left( x_{1}, x_{2}, x_{3} \\right) \\ {\\mapsto} \\ -\\frac{k_{3} w_{1} \\cos\\left(\\sqrt{\\frac{K_{0} k_{1}^{2}}{\\rho_{0}} + \\frac{K_{0} k_{2}^{2}}{\\rho_{0}} + \\frac{K_{0} k_{3}^{2}}{\\rho_{0}}} n t + k_{1} x_{1} + k_{2} x_{2} + k_{3} x_{3} + \\phi_{2}\\right)}{n \\rho_{0} \\sqrt{\\frac{K_{0} k_{1}^{2} + K_{0} k_{2}^{2} + K_{0} k_{3}^{2}}{\\rho_{0}}}}\n",
       "\\end{array}\\right)"
      ]
     },
     "execution_count": 44,
     "metadata": {},
     "output_type": "execute_result"
    }
   ],
   "source": [
    "latex(w1*R2[:,0]*cos(k.dot_product(x) - c2[0]*t + phi2))"
   ]
  },
  {
   "cell_type": "code",
   "execution_count": 78,
   "id": "69a27ff9",
   "metadata": {},
   "outputs": [],
   "source": [
    "test1 = (q2.diff(t) + A2*q2.diff(x1) + B2*q2.diff(x2) + C2*q2.diff(x3))[0]\n",
    "test2 = (q2.diff(t) + A2*q2.diff(x1) + B2*q2.diff(x2) + C2*q2.diff(x3))[1]\n",
    "test3 = (q2.diff(t) + A2*q2.diff(x1) + B2*q2.diff(x2) + C2*q2.diff(x3))[2]\n",
    "test4 = (q2.diff(t) + A2*q2.diff(x1) + B2*q2.diff(x2) + C2*q2.diff(x3))[3]"
   ]
  },
  {
   "cell_type": "code",
   "execution_count": 79,
   "id": "3efacf83",
   "metadata": {},
   "outputs": [
    {
     "data": {
      "text/plain": [
       "(x1, x2, x3, t) |--> 0"
      ]
     },
     "execution_count": 79,
     "metadata": {},
     "output_type": "execute_result"
    }
   ],
   "source": [
    "test1.simplify_full()"
   ]
  },
  {
   "cell_type": "code",
   "execution_count": 80,
   "id": "e87e020a",
   "metadata": {},
   "outputs": [
    {
     "data": {
      "text/plain": [
       "(x1, x2, x3, t) |--> 0"
      ]
     },
     "execution_count": 80,
     "metadata": {},
     "output_type": "execute_result"
    }
   ],
   "source": [
    "test2.simplify_full()"
   ]
  },
  {
   "cell_type": "code",
   "execution_count": 81,
   "id": "1bcd8ea6",
   "metadata": {},
   "outputs": [
    {
     "data": {
      "text/plain": [
       "(x1, x2, x3, t) |--> 0"
      ]
     },
     "execution_count": 81,
     "metadata": {},
     "output_type": "execute_result"
    }
   ],
   "source": [
    "test3.simplify_full()"
   ]
  },
  {
   "cell_type": "code",
   "execution_count": 82,
   "id": "8205df37",
   "metadata": {},
   "outputs": [
    {
     "data": {
      "text/plain": [
       "(x1, x2, x3, t) |--> 0"
      ]
     },
     "execution_count": 82,
     "metadata": {},
     "output_type": "execute_result"
    }
   ],
   "source": [
    "test4.simplify_full()"
   ]
  },
  {
   "cell_type": "code",
   "execution_count": 98,
   "id": "1cd2c0ee",
   "metadata": {},
   "outputs": [],
   "source": [
    "tITMminus = var('tITMminus')"
   ]
  },
  {
   "cell_type": "code",
   "execution_count": 113,
   "id": "82265c6a",
   "metadata": {},
   "outputs": [],
   "source": [
    "f(x1, x2, x3, tITMminus) = q(x1,x2,x3, tITMminus) == q2(x1,x2,x3,tITMminus)"
   ]
  },
  {
   "cell_type": "code",
   "execution_count": 114,
   "id": "c4a9a470",
   "metadata": {},
   "outputs": [
    {
     "data": {
      "text/plain": [
       "[False]"
      ]
     },
     "execution_count": 114,
     "metadata": {},
     "output_type": "execute_result"
    }
   ],
   "source": [
    "solve([f], w1, phi1, w2, phi2)"
   ]
  },
  {
   "cell_type": "code",
   "execution_count": 2,
   "id": "6988d5fc",
   "metadata": {},
   "outputs": [
    {
     "data": {
      "text/plain": [
       "I"
      ]
     },
     "execution_count": 2,
     "metadata": {},
     "output_type": "execute_result"
    }
   ],
   "source": [
    "i"
   ]
  },
  {
   "cell_type": "code",
   "execution_count": 4,
   "id": "b15974e3",
   "metadata": {},
   "outputs": [],
   "source": [
    "x1 = var('x1')\n",
    "x2 = var('x2')\n",
    "x3 = var('x3')\n",
    "x(x1, x2, x3) = vector([x1, x2, x3])\n",
    "t = var('t')\n",
    "rho0 = var('rho0')\n",
    "K0 = var('K0')\n",
    "q0 = var('q0')\n",
    "w = var('w')\n",
    "W = var('W')\n",
    "k1 = var('k1')\n",
    "k2 = var('k2')\n",
    "k3 = var('k3')\n",
    "k = vector([k1,k2,k3])\n",
    "n = var('n')\n",
    "from sage.symbolic.integration.integral import definite_integral"
   ]
  },
  {
   "cell_type": "code",
   "execution_count": 5,
   "id": "d9d1a13e",
   "metadata": {},
   "outputs": [],
   "source": [
    "A = Matrix([[0, K0, 0, 0],\n",
    "            [1/rho0, 0, 0, 0], \n",
    "            [0,0,0,0], \n",
    "            [0,0,0,0]])\n",
    "B = Matrix([[0, 0, K0, 0],\n",
    "            [0, 0, 0, 0], \n",
    "            [1/rho0,0,0,0], \n",
    "            [0,0,0,0]])\n",
    "C = Matrix([[0, 0, 0, K0],\n",
    "            [0, 0, 0, 0], \n",
    "            [0,0,0,0], \n",
    "            [1/rho0,0,0,0]])"
   ]
  },
  {
   "cell_type": "code",
   "execution_count": 6,
   "id": "5305e777",
   "metadata": {},
   "outputs": [],
   "source": [
    "A_hat = A*k1 + B*k2 + C*k3"
   ]
  },
  {
   "cell_type": "code",
   "execution_count": 7,
   "id": "ea6a2a67",
   "metadata": {},
   "outputs": [],
   "source": [
    "c = A_hat.eigenvalues()"
   ]
  },
  {
   "cell_type": "code",
   "execution_count": 8,
   "id": "32918cb6",
   "metadata": {},
   "outputs": [],
   "source": [
    "R = A_hat.eigenmatrix_right()[1]"
   ]
  },
  {
   "cell_type": "code",
   "execution_count": 25,
   "id": "589f60ab",
   "metadata": {},
   "outputs": [],
   "source": [
    "q(x1,x2,x3,t) = vector(R[:,1].list())*exp(i*(k1*x1 + k2*x2 + k3*x3 - c[1]*t))"
   ]
  },
  {
   "cell_type": "code",
   "execution_count": 26,
   "id": "f55aeec4",
   "metadata": {},
   "outputs": [
    {
     "data": {
      "text/plain": [
       "(x1, x2, x3, t) |--> (e^(I*k1*x1 + I*k2*x2 + I*k3*x3 - I*sqrt(K0*k1^2/rho0 + K0*k2^2/rho0 + K0*k3^2/rho0)*t), k1*e^(I*k1*x1 + I*k2*x2 + I*k3*x3 - I*sqrt(K0*k1^2/rho0 + K0*k2^2/rho0 + K0*k3^2/rho0)*t)/(rho0*sqrt((K0*k1^2 + K0*k2^2 + K0*k3^2)/rho0)), k2*e^(I*k1*x1 + I*k2*x2 + I*k3*x3 - I*sqrt(K0*k1^2/rho0 + K0*k2^2/rho0 + K0*k3^2/rho0)*t)/(rho0*sqrt((K0*k1^2 + K0*k2^2 + K0*k3^2)/rho0)), k3*e^(I*k1*x1 + I*k2*x2 + I*k3*x3 - I*sqrt(K0*k1^2/rho0 + K0*k2^2/rho0 + K0*k3^2/rho0)*t)/(rho0*sqrt((K0*k1^2 + K0*k2^2 + K0*k3^2)/rho0)))"
      ]
     },
     "execution_count": 26,
     "metadata": {},
     "output_type": "execute_result"
    }
   ],
   "source": [
    "q"
   ]
  },
  {
   "cell_type": "code",
   "execution_count": 27,
   "id": "e8347fde",
   "metadata": {},
   "outputs": [],
   "source": [
    "test1 = (q.diff(t) + A*q.diff(x1) + B*q.diff(x2) + C*q.diff(x3))[0]\n",
    "test2 = (q.diff(t) + A*q.diff(x1) + B*q.diff(x2) + C*q.diff(x3))[1]\n",
    "test3 = (q.diff(t) + A*q.diff(x1) + B*q.diff(x2) + C*q.diff(x3))[2]\n",
    "test4 = (q.diff(t) + A*q.diff(x1) + B*q.diff(x2) + C*q.diff(x3))[3]"
   ]
  },
  {
   "cell_type": "code",
   "execution_count": 28,
   "id": "1c9d4c78",
   "metadata": {},
   "outputs": [
    {
     "data": {
      "text/plain": [
       "((x1, x2, x3, t) |--> 0,\n",
       " (x1, x2, x3, t) |--> 0,\n",
       " (x1, x2, x3, t) |--> 0,\n",
       " (x1, x2, x3, t) |--> 0)"
      ]
     },
     "execution_count": 28,
     "metadata": {},
     "output_type": "execute_result"
    }
   ],
   "source": [
    "test1.simplify_full(), test2.simplify_full(), test3.simplify_full(), test4.simplify_full()"
   ]
  },
  {
   "cell_type": "code",
   "execution_count": 34,
   "id": "8efac9bd",
   "metadata": {},
   "outputs": [],
   "source": [
    "energy = definite_integral(definite_integral(definite_integral(0.5*real(q(x1,x2,x3,t)[0])*real(q(x1,x2,x3,t)[0])/K0 + 0.5*rho0*(real(q(x1,x2,x3,t)[1])*real(q(x1,x2,x3,t)[1])+real(q(x1,x2,x3,t)[2])*real(q(x1,x2,x3,t)[2])+real(q(x1,x2,x3,t)[3])*real(q(x1,x2,x3,t)[3])),x1,-pi/k1,pi/k1),x2,-pi/k2,pi/k2),x3, -pi/k3, pi/k3)"
   ]
  },
  {
   "cell_type": "code",
   "execution_count": 35,
   "id": "b825d95f",
   "metadata": {},
   "outputs": [
    {
     "data": {
      "text/plain": [
       "(2.0*pi^3*abs(K0*k1^2 + K0*k2^2 + K0*k3^2)*abs(rho0)*e^(2*t*sqrt(abs(K0*k1^2 + K0*k2^2 + K0*k3^2)/abs(rho0))*sin(1/2*arctan2(0, (K0*k1^2 + K0*k2^2 + K0*k3^2)/rho0))) + (2.0*pi^3*K0*k1^2 + 2.0*pi^3*K0*k2^2 + 2.0*pi^3*K0*k3^2)*rho0)/(K0*k1*k2*k3*abs(K0*k1^2 + K0*k2^2 + K0*k3^2)*abs(rho0))"
      ]
     },
     "execution_count": 35,
     "metadata": {},
     "output_type": "execute_result"
    }
   ],
   "source": [
    "energy.simplify_full()"
   ]
  },
  {
   "cell_type": "code",
   "execution_count": 37,
   "id": "8eb7ad2b",
   "metadata": {},
   "outputs": [],
   "source": [
    "A2 = Matrix([[0, n*n*K0, 0, 0],\n",
    "            [1/rho0, 0, 0, 0], \n",
    "            [0,0,0,0], \n",
    "            [0,0,0,0]])\n",
    "B2 = Matrix([[0, 0, n*n*K0, 0],\n",
    "            [0, 0, 0, 0], \n",
    "            [1/rho0,0,0,0], \n",
    "            [0,0,0,0]])\n",
    "C2 = Matrix([[0, 0, 0, n*n*K0],\n",
    "            [0, 0, 0, 0], \n",
    "            [0,0,0,0], \n",
    "            [1/rho0,0,0,0]])"
   ]
  },
  {
   "cell_type": "code",
   "execution_count": 38,
   "id": "1cdaebcf",
   "metadata": {},
   "outputs": [],
   "source": [
    "A2_hat = A2*k1 + B2*k2 + C2*k3"
   ]
  },
  {
   "cell_type": "code",
   "execution_count": 39,
   "id": "0e6766fa",
   "metadata": {},
   "outputs": [],
   "source": [
    "c2 = A2_hat.eigenvalues()"
   ]
  },
  {
   "cell_type": "code",
   "execution_count": 40,
   "id": "5e41c2f2",
   "metadata": {},
   "outputs": [],
   "source": [
    "R2 = A2_hat.eigenmatrix_right()[1]"
   ]
  },
  {
   "cell_type": "code",
   "execution_count": 41,
   "id": "d2cb20c4",
   "metadata": {},
   "outputs": [],
   "source": [
    "phi1 = var('phi1')\n",
    "phi2 = var('phi2')\n",
    "w1 = var('w1')\n",
    "w2 = var('w2')\n",
    "q2(x1,x2,x3,t) = w1*vector(R2[:,0].list())*exp(i*(k1*x1 + k2*x2+k3*x3 - c[0]*t)) + w2*vector(R2[:,1].list())*exp(i*(k1*x1+k2*x2+k3*x3- c2[1]*t))"
   ]
  },
  {
   "cell_type": "code",
   "execution_count": 42,
   "id": "760f6f03",
   "metadata": {},
   "outputs": [],
   "source": [
    "test1 = (q2.diff(t) + A2*q2.diff(x1) + B2*q2.diff(x2) + C2*q2.diff(x3))[0]\n",
    "test2 = (q2.diff(t) + A2*q2.diff(x1) + B2*q2.diff(x2) + C2*q2.diff(x3))[1]\n",
    "test3 = (q2.diff(t) + A2*q2.diff(x1) + B2*q2.diff(x2) + C2*q2.diff(x3))[2]\n",
    "test4 = (q2.diff(t) + A2*q2.diff(x1) + B2*q2.diff(x2) + C2*q2.diff(x3))[3]"
   ]
  },
  {
   "cell_type": "code",
   "execution_count": 45,
   "id": "09d577c7",
   "metadata": {},
   "outputs": [
    {
     "data": {
      "text/plain": [
       "(x1, x2, x3, t) |--> -(-I*K0*k1^2 - I*K0*k2^2 - I*K0*k3^2 + (I*K0*k1^2 + I*K0*k2^2 + I*K0*k3^2)*n)*w1*e^(I*k1*x1 + I*k2*x2 + I*k3*x3 + I*t*sqrt((K0*k1^2 + K0*k2^2 + K0*k3^2)/rho0))/(rho0*sqrt((K0*k1^2 + K0*k2^2 + K0*k3^2)/rho0))"
      ]
     },
     "execution_count": 45,
     "metadata": {},
     "output_type": "execute_result"
    }
   ],
   "source": [
    "test1.simplify_full().simplify_full()"
   ]
  },
  {
   "cell_type": "code",
   "execution_count": null,
   "id": "d308c7bd",
   "metadata": {},
   "outputs": [],
   "source": []
  }
 ],
 "metadata": {
  "kernelspec": {
   "display_name": "SageMath 9.5",
   "language": "sage",
   "name": "sagemath"
  },
  "language_info": {
   "codemirror_mode": {
    "name": "ipython",
    "version": 3
   },
   "file_extension": ".py",
   "mimetype": "text/x-python",
   "name": "python",
   "nbconvert_exporter": "python",
   "pygments_lexer": "ipython3",
   "version": "3.10.6"
  }
 },
 "nbformat": 4,
 "nbformat_minor": 5
}
