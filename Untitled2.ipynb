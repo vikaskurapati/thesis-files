{
 "cells": [
  {
   "cell_type": "code",
   "execution_count": 2,
   "id": "a07077f4",
   "metadata": {},
   "outputs": [],
   "source": [
    "x1 = var('x1')\n",
    "x2 = var('x2')\n",
    "x3 = var('x3')\n",
    "x(x1, x2, x3) = vector([x1, x2, x3])\n",
    "t = var('t')\n",
    "rho0 = var('rho0')\n",
    "K0 = var('K0')\n",
    "q0 = var('q0')\n",
    "w = var('w')\n",
    "W = var('W')\n",
    "k1 = var('k1')\n",
    "k2 = var('k2')\n",
    "k3 = var('k3')\n",
    "# k = vector([k1,k2,k3])\n",
    "k = var('k')\n",
    "n = var('n')\n",
    "from sage.symbolic.integration.integral import definite_integral\n",
    "tITMMinus = var('tITMMinus')\n",
    "tau = var('tau')"
   ]
  },
  {
   "cell_type": "code",
   "execution_count": 3,
   "id": "8bb43366",
   "metadata": {},
   "outputs": [],
   "source": [
    "A = Matrix([[0, K0, 0, 0],\n",
    "            [1/rho0, 0, 0, 0], \n",
    "            [0,0,0,0], \n",
    "            [0,0,0,0]])\n",
    "B = Matrix([[0, 0, K0, 0],\n",
    "            [0, 0, 0, 0], \n",
    "            [1/rho0,0,0,0], \n",
    "            [0,0,0,0]])\n",
    "C = Matrix([[0, 0, 0, K0],\n",
    "            [0, 0, 0, 0], \n",
    "            [0,0,0,0], \n",
    "            [1/rho0,0,0,0]])"
   ]
  },
  {
   "cell_type": "code",
   "execution_count": 4,
   "id": "5d2b298e",
   "metadata": {},
   "outputs": [],
   "source": [
    "A_hat = A*k"
   ]
  },
  {
   "cell_type": "code",
   "execution_count": 5,
   "id": "8d30d057",
   "metadata": {},
   "outputs": [],
   "source": [
    "c = A_hat.eigenvalues()"
   ]
  },
  {
   "cell_type": "code",
   "execution_count": 6,
   "id": "8bc2bbbd",
   "metadata": {},
   "outputs": [
    {
     "data": {
      "text/plain": [
       "[-k*sqrt(K0/rho0), k*sqrt(K0/rho0), 0, 0]"
      ]
     },
     "execution_count": 6,
     "metadata": {},
     "output_type": "execute_result"
    }
   ],
   "source": [
    "c"
   ]
  },
  {
   "cell_type": "code",
   "execution_count": 7,
   "id": "1d0b2eb9",
   "metadata": {},
   "outputs": [],
   "source": [
    "R = A_hat.eigenmatrix_right()[1]"
   ]
  },
  {
   "cell_type": "code",
   "execution_count": 8,
   "id": "8b40d3f4",
   "metadata": {},
   "outputs": [
    {
     "data": {
      "text/plain": [
       "[                      1                       1                       0                       0]\n",
       "[-1/(rho0*sqrt(K0/rho0))  1/(rho0*sqrt(K0/rho0))                       0                       0]\n",
       "[                      0                       0                       1                       0]\n",
       "[                      0                       0                       0                       1]"
      ]
     },
     "execution_count": 8,
     "metadata": {},
     "output_type": "execute_result"
    }
   ],
   "source": [
    "R"
   ]
  },
  {
   "cell_type": "code",
   "execution_count": 9,
   "id": "6eb1168a",
   "metadata": {},
   "outputs": [],
   "source": [
    "q(x1,x2,x3,t) = vector(R[:,1].list())*cos(k*x1 - c[1]*t)"
   ]
  },
  {
   "cell_type": "code",
   "execution_count": 10,
   "id": "0906c11b",
   "metadata": {},
   "outputs": [
    {
     "data": {
      "text/plain": [
       "(x1, x2, x3, t) |--> (cos(-k*t*sqrt(K0/rho0) + k*x1), cos(-k*t*sqrt(K0/rho0) + k*x1)/(rho0*sqrt(K0/rho0)), 0, 0)"
      ]
     },
     "execution_count": 10,
     "metadata": {},
     "output_type": "execute_result"
    }
   ],
   "source": [
    "q"
   ]
  },
  {
   "cell_type": "code",
   "execution_count": 11,
   "id": "170785b3",
   "metadata": {},
   "outputs": [],
   "source": [
    "test1 = (q.diff(t) + A*q.diff(x1) + B*q.diff(x2) + C*q.diff(x3))[0]\n",
    "test2 = (q.diff(t) + A*q.diff(x1) + B*q.diff(x2) + C*q.diff(x3))[1]\n",
    "test3 = (q.diff(t) + A*q.diff(x1) + B*q.diff(x2) + C*q.diff(x3))[2]\n",
    "test4 = (q.diff(t) + A*q.diff(x1) + B*q.diff(x2) + C*q.diff(x3))[3]\n"
   ]
  },
  {
   "cell_type": "code",
   "execution_count": 12,
   "id": "344ba738",
   "metadata": {},
   "outputs": [
    {
     "data": {
      "text/plain": [
       "((x1, x2, x3, t) |--> 0, 0, 0, 0)"
      ]
     },
     "execution_count": 12,
     "metadata": {},
     "output_type": "execute_result"
    }
   ],
   "source": [
    "test1.simplify_full(), test2.simplify_full(), test3.simplify_full(), test4.simplify_full()"
   ]
  },
  {
   "cell_type": "code",
   "execution_count": 15,
   "id": "2811c6ca",
   "metadata": {},
   "outputs": [],
   "source": [
    "energy1 = definite_integral(definite_integral(definite_integral(0.5*q(x1,x2,x3,t)[0]*q(x1,x2,x3,t)[0]/K0 + 0.5*rho0*(q(x1,x2,x3,t)[1]*q(x1,x2,x3,t)[1]+q(x1,x2,x3,t)[2]*q(x1,x2,x3,t)[2]+q(x1,x2,x3,t)[3]*q(x1,x2,x3,t)[3]),x1,-pi/k,pi/k),x2,-pi/k2,pi/k2),x3, -pi/k3, pi/k3)"
   ]
  },
  {
   "cell_type": "code",
   "execution_count": 16,
   "id": "56ef5e6a",
   "metadata": {},
   "outputs": [
    {
     "data": {
      "text/plain": [
       "4.0*pi^3/(K0*k*k2*k3)"
      ]
     },
     "execution_count": 16,
     "metadata": {},
     "output_type": "execute_result"
    }
   ],
   "source": [
    "energy1.simplify_full()"
   ]
  },
  {
   "cell_type": "code",
   "execution_count": 17,
   "id": "34629077",
   "metadata": {},
   "outputs": [],
   "source": [
    "q_init(x1,x2,x3) = q(x1,x2,x3,tITMMinus)"
   ]
  },
  {
   "cell_type": "code",
   "execution_count": 18,
   "id": "6f9a9f1c",
   "metadata": {},
   "outputs": [
    {
     "data": {
      "text/plain": [
       "(x1, x2, x3) |--> (cos(-k*tITMMinus*sqrt(K0/rho0) + k*x1), cos(-k*tITMMinus*sqrt(K0/rho0) + k*x1)/(rho0*sqrt(K0/rho0)), 0, 0)"
      ]
     },
     "execution_count": 18,
     "metadata": {},
     "output_type": "execute_result"
    }
   ],
   "source": [
    "q_init"
   ]
  },
  {
   "cell_type": "code",
   "execution_count": 19,
   "id": "0445955b",
   "metadata": {},
   "outputs": [],
   "source": [
    "A2 = Matrix([[0, n*n*K0, 0, 0],\n",
    "            [1/rho0, 0, 0, 0], \n",
    "            [0,0,0,0], \n",
    "            [0,0,0,0]])\n",
    "B2 = Matrix([[0, 0, n*n*K0, 0],\n",
    "            [0, 0, 0, 0], \n",
    "            [1/rho0,0,0,0], \n",
    "            [0,0,0,0]])\n",
    "C2 = Matrix([[0, 0, 0, n*n*K0],\n",
    "            [0, 0, 0, 0], \n",
    "            [0,0,0,0], \n",
    "            [1/rho0,0,0,0]])"
   ]
  },
  {
   "cell_type": "code",
   "execution_count": 20,
   "id": "b903e734",
   "metadata": {},
   "outputs": [
    {
     "data": {
      "text/plain": [
       "(x1, x2, x3) |--> (cos(-k*tITMMinus*sqrt(K0/rho0) + k*x1), cos(-k*tITMMinus*sqrt(K0/rho0) + k*x1)/(rho0*sqrt(K0/rho0)), 0, 0)"
      ]
     },
     "execution_count": 20,
     "metadata": {},
     "output_type": "execute_result"
    }
   ],
   "source": [
    "q_init"
   ]
  },
  {
   "cell_type": "code",
   "execution_count": 21,
   "id": "44546964",
   "metadata": {},
   "outputs": [],
   "source": [
    "A2_hat = A2*k"
   ]
  },
  {
   "cell_type": "code",
   "execution_count": 22,
   "id": "a32b3c0f",
   "metadata": {},
   "outputs": [],
   "source": [
    "c2 = A2_hat.eigenvalues()"
   ]
  },
  {
   "cell_type": "code",
   "execution_count": 23,
   "id": "1dd92050",
   "metadata": {},
   "outputs": [],
   "source": [
    "R2 = A2_hat.eigenmatrix_right()[1]"
   ]
  },
  {
   "cell_type": "code",
   "execution_count": 24,
   "id": "433be152",
   "metadata": {},
   "outputs": [
    {
     "data": {
      "text/plain": [
       "[                        1                         1                         0                         0]\n",
       "[-1/(n*rho0*sqrt(K0/rho0))  1/(n*rho0*sqrt(K0/rho0))                         0                         0]\n",
       "[                        0                         0                         1                         0]\n",
       "[                        0                         0                         0                         1]"
      ]
     },
     "execution_count": 24,
     "metadata": {},
     "output_type": "execute_result"
    }
   ],
   "source": [
    "R2"
   ]
  },
  {
   "cell_type": "code",
   "execution_count": 25,
   "id": "3669ec4a",
   "metadata": {},
   "outputs": [],
   "source": [
    "w(x1,x2,x3) = R2.solve_right(q_init)"
   ]
  },
  {
   "cell_type": "code",
   "execution_count": 26,
   "id": "bd0485eb",
   "metadata": {},
   "outputs": [],
   "source": [
    "component1 = w[0]"
   ]
  },
  {
   "cell_type": "code",
   "execution_count": 27,
   "id": "6d9ede83",
   "metadata": {},
   "outputs": [
    {
     "data": {
      "text/plain": [
       "(x1, x2, x3) |--> -1/2*n*rho0*sqrt(K0/rho0)*(cos(-k*tITMMinus*sqrt(K0/rho0) + k*x1)/(rho0*sqrt(K0/rho0)) + cos(-k*tITMMinus*sqrt(K0/rho0) + k*x1)/(n*rho0*sqrt(K0/rho0))) + cos(-k*tITMMinus*sqrt(K0/rho0) + k*x1)"
      ]
     },
     "execution_count": 27,
     "metadata": {},
     "output_type": "execute_result"
    }
   ],
   "source": [
    "component1"
   ]
  },
  {
   "cell_type": "code",
   "execution_count": 28,
   "id": "1da08f68",
   "metadata": {},
   "outputs": [],
   "source": [
    "component2 = w[1]"
   ]
  },
  {
   "cell_type": "code",
   "execution_count": 29,
   "id": "5632024b",
   "metadata": {},
   "outputs": [
    {
     "data": {
      "text/plain": [
       "(x1, x2, x3) |--> 1/2*(n + 1)*cos(k*tITMMinus*sqrt(K0/rho0))*cos(k*x1) + 1/2*(n + 1)*sin(k*tITMMinus*sqrt(K0/rho0))*sin(k*x1)"
      ]
     },
     "execution_count": 29,
     "metadata": {},
     "output_type": "execute_result"
    }
   ],
   "source": [
    "component2.simplify_full()"
   ]
  },
  {
   "cell_type": "code",
   "execution_count": 30,
   "id": "25741fad",
   "metadata": {},
   "outputs": [],
   "source": [
    "component3 = w[2]"
   ]
  },
  {
   "cell_type": "code",
   "execution_count": 31,
   "id": "068f0a9d",
   "metadata": {},
   "outputs": [
    {
     "data": {
      "text/plain": [
       "0"
      ]
     },
     "execution_count": 31,
     "metadata": {},
     "output_type": "execute_result"
    }
   ],
   "source": [
    "component3.simplify_full()"
   ]
  },
  {
   "cell_type": "code",
   "execution_count": 32,
   "id": "9a081b60",
   "metadata": {},
   "outputs": [],
   "source": [
    "component3 = w[3]"
   ]
  },
  {
   "cell_type": "code",
   "execution_count": 33,
   "id": "6c2ec533",
   "metadata": {},
   "outputs": [
    {
     "data": {
      "text/plain": [
       "0"
      ]
     },
     "execution_count": 33,
     "metadata": {},
     "output_type": "execute_result"
    }
   ],
   "source": [
    "component3.simplify_full()"
   ]
  },
  {
   "cell_type": "code",
   "execution_count": 34,
   "id": "b5b9f4e7",
   "metadata": {},
   "outputs": [
    {
     "data": {
      "text/plain": [
       "-1/2*n*rho0*sqrt(K0/rho0)*(cos(-k*tITMMinus*sqrt(K0/rho0))/(rho0*sqrt(K0/rho0)) + cos(-k*tITMMinus*sqrt(K0/rho0))/(n*rho0*sqrt(K0/rho0))) + cos(-k*tITMMinus*sqrt(K0/rho0))"
      ]
     },
     "execution_count": 34,
     "metadata": {},
     "output_type": "execute_result"
    }
   ],
   "source": [
    "component1(0,0,0)"
   ]
  },
  {
   "cell_type": "code",
   "execution_count": 35,
   "id": "70c127c7",
   "metadata": {},
   "outputs": [],
   "source": [
    "q2_component1(x1,x2,x3,t) = component1(x1-c2[0]*(t-tITMMinus)/(k), x2, x3)"
   ]
  },
  {
   "cell_type": "code",
   "execution_count": 36,
   "id": "610a4cb4",
   "metadata": {},
   "outputs": [
    {
     "data": {
      "text/plain": [
       "(x1, x2, x3, t) |--> -1/2*n*rho0*sqrt(K0/rho0)*(cos(-k*tITMMinus*sqrt(K0/rho0) + (n*(t - tITMMinus)*sqrt(K0/rho0) + x1)*k)/(rho0*sqrt(K0/rho0)) + cos(-k*tITMMinus*sqrt(K0/rho0) + (n*(t - tITMMinus)*sqrt(K0/rho0) + x1)*k)/(n*rho0*sqrt(K0/rho0))) + cos(-k*tITMMinus*sqrt(K0/rho0) + (n*(t - tITMMinus)*sqrt(K0/rho0) + x1)*k)"
      ]
     },
     "execution_count": 36,
     "metadata": {},
     "output_type": "execute_result"
    }
   ],
   "source": [
    "q2_component1"
   ]
  },
  {
   "cell_type": "code",
   "execution_count": 37,
   "id": "c111e711",
   "metadata": {},
   "outputs": [],
   "source": [
    "q2_component2(x1,x2,x3,t) = component2(x1-c2[1]*(t-tITMMinus)/(k), x2, x3)"
   ]
  },
  {
   "cell_type": "code",
   "execution_count": 38,
   "id": "7503b21a",
   "metadata": {},
   "outputs": [
    {
     "data": {
      "text/plain": [
       "(x1, x2, x3, t) |--> 1/2*n*rho0*sqrt(K0/rho0)*(cos(-k*tITMMinus*sqrt(K0/rho0) - (n*(t - tITMMinus)*sqrt(K0/rho0) - x1)*k)/(rho0*sqrt(K0/rho0)) + cos(-k*tITMMinus*sqrt(K0/rho0) - (n*(t - tITMMinus)*sqrt(K0/rho0) - x1)*k)/(n*rho0*sqrt(K0/rho0)))"
      ]
     },
     "execution_count": 38,
     "metadata": {},
     "output_type": "execute_result"
    }
   ],
   "source": [
    "q2_component2"
   ]
  },
  {
   "cell_type": "code",
   "execution_count": 39,
   "id": "4bb4919d",
   "metadata": {},
   "outputs": [
    {
     "data": {
      "text/plain": [
       "[                        1]\n",
       "[-1/(n*rho0*sqrt(K0/rho0))]\n",
       "[                        0]\n",
       "[                        0]"
      ]
     },
     "execution_count": 39,
     "metadata": {},
     "output_type": "execute_result"
    }
   ],
   "source": [
    "R2[:,0]"
   ]
  },
  {
   "cell_type": "code",
   "execution_count": 40,
   "id": "0809d76a",
   "metadata": {},
   "outputs": [],
   "source": [
    "q2(x1,x2,x3,t) = vector(R2[:,0].list())*q2_component1 + vector(R2[:,1].list())*q2_component2"
   ]
  },
  {
   "cell_type": "code",
   "execution_count": 41,
   "id": "6cb9ce87",
   "metadata": {},
   "outputs": [
    {
     "data": {
      "text/plain": [
       "(x1, x2, x3, t) |--> (-1/2*n*rho0*sqrt(K0/rho0)*(cos(-k*tITMMinus*sqrt(K0/rho0) + (n*(t - tITMMinus)*sqrt(K0/rho0) + x1)*k)/(rho0*sqrt(K0/rho0)) + cos(-k*tITMMinus*sqrt(K0/rho0) + (n*(t - tITMMinus)*sqrt(K0/rho0) + x1)*k)/(n*rho0*sqrt(K0/rho0))) + 1/2*n*rho0*sqrt(K0/rho0)*(cos(-k*tITMMinus*sqrt(K0/rho0) - (n*(t - tITMMinus)*sqrt(K0/rho0) - x1)*k)/(rho0*sqrt(K0/rho0)) + cos(-k*tITMMinus*sqrt(K0/rho0) - (n*(t - tITMMinus)*sqrt(K0/rho0) - x1)*k)/(n*rho0*sqrt(K0/rho0))) + cos(-k*tITMMinus*sqrt(K0/rho0) + (n*(t - tITMMinus)*sqrt(K0/rho0) + x1)*k), 1/2*cos(-k*tITMMinus*sqrt(K0/rho0) - (n*(t - tITMMinus)*sqrt(K0/rho0) - x1)*k)/(rho0*sqrt(K0/rho0)) + 1/2*(n*rho0*sqrt(K0/rho0)*(cos(-k*tITMMinus*sqrt(K0/rho0) + (n*(t - tITMMinus)*sqrt(K0/rho0) + x1)*k)/(rho0*sqrt(K0/rho0)) + cos(-k*tITMMinus*sqrt(K0/rho0) + (n*(t - tITMMinus)*sqrt(K0/rho0) + x1)*k)/(n*rho0*sqrt(K0/rho0))) - 2*cos(-k*tITMMinus*sqrt(K0/rho0) + (n*(t - tITMMinus)*sqrt(K0/rho0) + x1)*k))/(n*rho0*sqrt(K0/rho0)) + 1/2*cos(-k*tITMMinus*sqrt(K0/rho0) - (n*(t - tITMMinus)*sqrt(K0/rho0) - x1)*k)/(n*rho0*sqrt(K0/rho0)), 0, 0)"
      ]
     },
     "execution_count": 41,
     "metadata": {},
     "output_type": "execute_result"
    }
   ],
   "source": [
    "q2"
   ]
  },
  {
   "cell_type": "code",
   "execution_count": 42,
   "id": "301b64f5",
   "metadata": {},
   "outputs": [],
   "source": [
    "test21 = (q2.diff(t) + A2*q2.diff(x1) + B2*q2.diff(x2) + C2*q2.diff(x3))[0]\n",
    "test22 = (q2.diff(t) + A2*q2.diff(x1) + B2*q2.diff(x2) + C2*q2.diff(x3))[1]\n",
    "test23 = (q2.diff(t) + A2*q2.diff(x1) + B2*q2.diff(x2) + C2*q2.diff(x3))[2]\n",
    "test24 = (q2.diff(t) + A2*q2.diff(x1) + B2*q2.diff(x2) + C2*q2.diff(x3))[3]\n"
   ]
  },
  {
   "cell_type": "code",
   "execution_count": 43,
   "id": "8373f782",
   "metadata": {},
   "outputs": [
    {
     "data": {
      "text/plain": [
       "(x1, x2, x3, t) |--> 0"
      ]
     },
     "execution_count": 43,
     "metadata": {},
     "output_type": "execute_result"
    }
   ],
   "source": [
    "test21.simplify_full()"
   ]
  },
  {
   "cell_type": "code",
   "execution_count": 44,
   "id": "a793f0bf",
   "metadata": {},
   "outputs": [
    {
     "data": {
      "text/plain": [
       "(x1, x2, x3, t) |--> 0"
      ]
     },
     "execution_count": 44,
     "metadata": {},
     "output_type": "execute_result"
    }
   ],
   "source": [
    "test22.simplify_full()"
   ]
  },
  {
   "cell_type": "code",
   "execution_count": 45,
   "id": "3288f017",
   "metadata": {},
   "outputs": [
    {
     "data": {
      "text/plain": [
       "0"
      ]
     },
     "execution_count": 45,
     "metadata": {},
     "output_type": "execute_result"
    }
   ],
   "source": [
    "test23.simplify_full()"
   ]
  },
  {
   "cell_type": "code",
   "execution_count": 46,
   "id": "cf5167cf",
   "metadata": {},
   "outputs": [
    {
     "data": {
      "text/plain": [
       "0"
      ]
     },
     "execution_count": 46,
     "metadata": {},
     "output_type": "execute_result"
    }
   ],
   "source": [
    "test24.simplify_full()"
   ]
  },
  {
   "cell_type": "code",
   "execution_count": 47,
   "id": "7fc4e997",
   "metadata": {},
   "outputs": [],
   "source": [
    "energy2 = definite_integral(definite_integral(definite_integral(0.5*q2(x1,x2,x3,t)[0]*q2(x1,x2,x3,t)[0]/(n*n*K0) + 0.5*rho0*(q2(x1,x2,x3,t)[1]*q2(x1,x2,x3,t)[1]+q2(x1,x2,x3,t)[2]*q2(x1,x2,x3,t)[2]+q2(x1,x2,x3,t)[3]*q2(x1,x2,x3,t)[3]),x1,-pi/k,pi/k),x2,-pi/k2,pi/k2),x3, -pi/k3, pi/k3)"
   ]
  },
  {
   "cell_type": "code",
   "execution_count": 48,
   "id": "16d90994",
   "metadata": {},
   "outputs": [
    {
     "data": {
      "text/plain": [
       "-((pi^3*n^2 - pi^3)*rho0*sqrt(K0/rho0)*cos(2*k*n*t*sqrt(K0/rho0))*cos(2*k*n*tITMMinus*sqrt(K0/rho0)) + (pi^3*n^2 - pi^3)*rho0*sqrt(K0/rho0)*sin(2*k*n*t*sqrt(K0/rho0))*sin(2*k*n*tITMMinus*sqrt(K0/rho0)) - 2*((pi^3*n - pi^3)*rho0*sqrt(K0/rho0) + (pi^3*sqrt(K0)*n^2 - pi^3*sqrt(K0)*n)*sqrt(rho0))*cos((k*n*t - k*n*tITMMinus)*sqrt(K0)/sqrt(rho0))^2 - (2*pi^3*n^2 + 5*pi^3)*rho0*sqrt(K0/rho0) + (pi^3*sqrt(K0)*n^2 + 2*pi^3*sqrt(K0))*sqrt(rho0))/(K0*k*k2*k3*n^2*rho0*sqrt(K0/rho0))"
      ]
     },
     "execution_count": 48,
     "metadata": {},
     "output_type": "execute_result"
    }
   ],
   "source": [
    "energy2.simplify_full()"
   ]
  },
  {
   "cell_type": "code",
   "execution_count": 49,
   "id": "aef19a11",
   "metadata": {},
   "outputs": [],
   "source": [
    "ratio2(n) = energy2/energy1"
   ]
  },
  {
   "cell_type": "code",
   "execution_count": 50,
   "id": "66dd76d2",
   "metadata": {},
   "outputs": [],
   "source": [
    "A3 = Matrix([[0, K0, 0, 0],\n",
    "            [1/rho0, 0, 0, 0], \n",
    "            [0,0,0,0], \n",
    "            [0,0,0,0]])\n",
    "B3 = Matrix([[0, 0, K0, 0],\n",
    "            [0, 0, 0, 0], \n",
    "            [1/rho0,0,0,0], \n",
    "            [0,0,0,0]])\n",
    "C3 = Matrix([[0, 0, 0, K0],\n",
    "            [0, 0, 0, 0], \n",
    "            [0,0,0,0], \n",
    "            [1/rho0,0,0,0]])"
   ]
  },
  {
   "cell_type": "code",
   "execution_count": 51,
   "id": "210a3479",
   "metadata": {},
   "outputs": [],
   "source": [
    "q2_init(x1,x2,x3) = q2(x1,x2,x3,tITMMinus + tau)"
   ]
  },
  {
   "cell_type": "code",
   "execution_count": 52,
   "id": "36d04b8b",
   "metadata": {},
   "outputs": [
    {
     "data": {
      "text/plain": [
       "(x1, x2, x3) |--> (-1/2*n*rho0*sqrt(K0/rho0)*(cos(-k*tITMMinus*sqrt(K0/rho0) + (n*tau*sqrt(K0/rho0) + x1)*k)/(rho0*sqrt(K0/rho0)) + cos(-k*tITMMinus*sqrt(K0/rho0) + (n*tau*sqrt(K0/rho0) + x1)*k)/(n*rho0*sqrt(K0/rho0))) + 1/2*n*rho0*sqrt(K0/rho0)*(cos(-k*tITMMinus*sqrt(K0/rho0) - (n*tau*sqrt(K0/rho0) - x1)*k)/(rho0*sqrt(K0/rho0)) + cos(-k*tITMMinus*sqrt(K0/rho0) - (n*tau*sqrt(K0/rho0) - x1)*k)/(n*rho0*sqrt(K0/rho0))) + cos(-k*tITMMinus*sqrt(K0/rho0) + (n*tau*sqrt(K0/rho0) + x1)*k), 1/2*cos(-k*tITMMinus*sqrt(K0/rho0) - (n*tau*sqrt(K0/rho0) - x1)*k)/(rho0*sqrt(K0/rho0)) + 1/2*(n*rho0*sqrt(K0/rho0)*(cos(-k*tITMMinus*sqrt(K0/rho0) + (n*tau*sqrt(K0/rho0) + x1)*k)/(rho0*sqrt(K0/rho0)) + cos(-k*tITMMinus*sqrt(K0/rho0) + (n*tau*sqrt(K0/rho0) + x1)*k)/(n*rho0*sqrt(K0/rho0))) - 2*cos(-k*tITMMinus*sqrt(K0/rho0) + (n*tau*sqrt(K0/rho0) + x1)*k))/(n*rho0*sqrt(K0/rho0)) + 1/2*cos(-k*tITMMinus*sqrt(K0/rho0) - (n*tau*sqrt(K0/rho0) - x1)*k)/(n*rho0*sqrt(K0/rho0)), 0, 0)"
      ]
     },
     "execution_count": 52,
     "metadata": {},
     "output_type": "execute_result"
    }
   ],
   "source": [
    "q2_init"
   ]
  },
  {
   "cell_type": "code",
   "execution_count": 53,
   "id": "3fb8caf1",
   "metadata": {},
   "outputs": [],
   "source": [
    "A3_hat = A3*k"
   ]
  },
  {
   "cell_type": "code",
   "execution_count": 54,
   "id": "a7e0abd4",
   "metadata": {},
   "outputs": [],
   "source": [
    "c3 = A3_hat.eigenvalues()"
   ]
  },
  {
   "cell_type": "code",
   "execution_count": 55,
   "id": "089626e8",
   "metadata": {},
   "outputs": [
    {
     "data": {
      "text/plain": [
       "[-k*sqrt(K0/rho0), k*sqrt(K0/rho0), 0, 0]"
      ]
     },
     "execution_count": 55,
     "metadata": {},
     "output_type": "execute_result"
    }
   ],
   "source": [
    "c3"
   ]
  },
  {
   "cell_type": "code",
   "execution_count": 56,
   "id": "1785522c",
   "metadata": {},
   "outputs": [],
   "source": [
    "R3 = A3_hat.eigenmatrix_right()[1]"
   ]
  },
  {
   "cell_type": "code",
   "execution_count": 57,
   "id": "f42c9d9c",
   "metadata": {},
   "outputs": [
    {
     "data": {
      "text/plain": [
       "[                      1                       1                       0                       0]\n",
       "[-1/(rho0*sqrt(K0/rho0))  1/(rho0*sqrt(K0/rho0))                       0                       0]\n",
       "[                      0                       0                       1                       0]\n",
       "[                      0                       0                       0                       1]"
      ]
     },
     "execution_count": 57,
     "metadata": {},
     "output_type": "execute_result"
    }
   ],
   "source": [
    "R3"
   ]
  },
  {
   "cell_type": "code",
   "execution_count": 58,
   "id": "dec6ef7c",
   "metadata": {},
   "outputs": [],
   "source": [
    "w2(x1,x2,x3) = R3.solve_right(q2_init)"
   ]
  },
  {
   "cell_type": "code",
   "execution_count": 59,
   "id": "b26ee806",
   "metadata": {},
   "outputs": [
    {
     "data": {
      "text/plain": [
       "(x1, x2, x3) |--> (-1/2*n*rho0*sqrt(K0/rho0)*(cos(-k*tITMMinus*sqrt(K0/rho0) + (n*tau*sqrt(K0/rho0) + x1)*k)/(rho0*sqrt(K0/rho0)) + cos(-k*tITMMinus*sqrt(K0/rho0) + (n*tau*sqrt(K0/rho0) + x1)*k)/(n*rho0*sqrt(K0/rho0))) + 1/2*n*rho0*sqrt(K0/rho0)*(cos(-k*tITMMinus*sqrt(K0/rho0) - (n*tau*sqrt(K0/rho0) - x1)*k)/(rho0*sqrt(K0/rho0)) + cos(-k*tITMMinus*sqrt(K0/rho0) - (n*tau*sqrt(K0/rho0) - x1)*k)/(n*rho0*sqrt(K0/rho0))) + 1/4*rho0*sqrt(K0/rho0)*((n*rho0*sqrt(K0/rho0)*(cos(-k*tITMMinus*sqrt(K0/rho0) + (n*tau*sqrt(K0/rho0) + x1)*k)/(rho0*sqrt(K0/rho0)) + cos(-k*tITMMinus*sqrt(K0/rho0) + (n*tau*sqrt(K0/rho0) + x1)*k)/(n*rho0*sqrt(K0/rho0))) - n*rho0*sqrt(K0/rho0)*(cos(-k*tITMMinus*sqrt(K0/rho0) - (n*tau*sqrt(K0/rho0) - x1)*k)/(rho0*sqrt(K0/rho0)) + cos(-k*tITMMinus*sqrt(K0/rho0) - (n*tau*sqrt(K0/rho0) - x1)*k)/(n*rho0*sqrt(K0/rho0))) - 2*cos(-k*tITMMinus*sqrt(K0/rho0) + (n*tau*sqrt(K0/rho0) + x1)*k))/(rho0*sqrt(K0/rho0)) - cos(-k*tITMMinus*sqrt(K0/rho0) - (n*tau*sqrt(K0/rho0) - x1)*k)/(rho0*sqrt(K0/rho0)) - (n*rho0*sqrt(K0/rho0)*(cos(-k*tITMMinus*sqrt(K0/rho0) + (n*tau*sqrt(K0/rho0) + x1)*k)/(rho0*sqrt(K0/rho0)) + cos(-k*tITMMinus*sqrt(K0/rho0) + (n*tau*sqrt(K0/rho0) + x1)*k)/(n*rho0*sqrt(K0/rho0))) - 2*cos(-k*tITMMinus*sqrt(K0/rho0) + (n*tau*sqrt(K0/rho0) + x1)*k))/(n*rho0*sqrt(K0/rho0)) - cos(-k*tITMMinus*sqrt(K0/rho0) - (n*tau*sqrt(K0/rho0) - x1)*k)/(n*rho0*sqrt(K0/rho0))) + cos(-k*tITMMinus*sqrt(K0/rho0) + (n*tau*sqrt(K0/rho0) + x1)*k), -1/4*rho0*sqrt(K0/rho0)*((n*rho0*sqrt(K0/rho0)*(cos(-k*tITMMinus*sqrt(K0/rho0) + (n*tau*sqrt(K0/rho0) + x1)*k)/(rho0*sqrt(K0/rho0)) + cos(-k*tITMMinus*sqrt(K0/rho0) + (n*tau*sqrt(K0/rho0) + x1)*k)/(n*rho0*sqrt(K0/rho0))) - n*rho0*sqrt(K0/rho0)*(cos(-k*tITMMinus*sqrt(K0/rho0) - (n*tau*sqrt(K0/rho0) - x1)*k)/(rho0*sqrt(K0/rho0)) + cos(-k*tITMMinus*sqrt(K0/rho0) - (n*tau*sqrt(K0/rho0) - x1)*k)/(n*rho0*sqrt(K0/rho0))) - 2*cos(-k*tITMMinus*sqrt(K0/rho0) + (n*tau*sqrt(K0/rho0) + x1)*k))/(rho0*sqrt(K0/rho0)) - cos(-k*tITMMinus*sqrt(K0/rho0) - (n*tau*sqrt(K0/rho0) - x1)*k)/(rho0*sqrt(K0/rho0)) - (n*rho0*sqrt(K0/rho0)*(cos(-k*tITMMinus*sqrt(K0/rho0) + (n*tau*sqrt(K0/rho0) + x1)*k)/(rho0*sqrt(K0/rho0)) + cos(-k*tITMMinus*sqrt(K0/rho0) + (n*tau*sqrt(K0/rho0) + x1)*k)/(n*rho0*sqrt(K0/rho0))) - 2*cos(-k*tITMMinus*sqrt(K0/rho0) + (n*tau*sqrt(K0/rho0) + x1)*k))/(n*rho0*sqrt(K0/rho0)) - cos(-k*tITMMinus*sqrt(K0/rho0) - (n*tau*sqrt(K0/rho0) - x1)*k)/(n*rho0*sqrt(K0/rho0))), 0, 0)"
      ]
     },
     "execution_count": 59,
     "metadata": {},
     "output_type": "execute_result"
    }
   ],
   "source": [
    "w2"
   ]
  },
  {
   "cell_type": "code",
   "execution_count": 60,
   "id": "87d457de",
   "metadata": {},
   "outputs": [],
   "source": [
    "component1_2 = w2[0]"
   ]
  },
  {
   "cell_type": "code",
   "execution_count": 61,
   "id": "efa2106b",
   "metadata": {},
   "outputs": [
    {
     "data": {
      "text/plain": [
       "(x1, x2, x3) |--> -1/2*n*rho0*sqrt(K0/rho0)*(cos(-k*tITMMinus*sqrt(K0/rho0) + (n*tau*sqrt(K0/rho0) + x1)*k)/(rho0*sqrt(K0/rho0)) + cos(-k*tITMMinus*sqrt(K0/rho0) + (n*tau*sqrt(K0/rho0) + x1)*k)/(n*rho0*sqrt(K0/rho0))) + 1/2*n*rho0*sqrt(K0/rho0)*(cos(-k*tITMMinus*sqrt(K0/rho0) - (n*tau*sqrt(K0/rho0) - x1)*k)/(rho0*sqrt(K0/rho0)) + cos(-k*tITMMinus*sqrt(K0/rho0) - (n*tau*sqrt(K0/rho0) - x1)*k)/(n*rho0*sqrt(K0/rho0))) + 1/4*rho0*sqrt(K0/rho0)*((n*rho0*sqrt(K0/rho0)*(cos(-k*tITMMinus*sqrt(K0/rho0) + (n*tau*sqrt(K0/rho0) + x1)*k)/(rho0*sqrt(K0/rho0)) + cos(-k*tITMMinus*sqrt(K0/rho0) + (n*tau*sqrt(K0/rho0) + x1)*k)/(n*rho0*sqrt(K0/rho0))) - n*rho0*sqrt(K0/rho0)*(cos(-k*tITMMinus*sqrt(K0/rho0) - (n*tau*sqrt(K0/rho0) - x1)*k)/(rho0*sqrt(K0/rho0)) + cos(-k*tITMMinus*sqrt(K0/rho0) - (n*tau*sqrt(K0/rho0) - x1)*k)/(n*rho0*sqrt(K0/rho0))) - 2*cos(-k*tITMMinus*sqrt(K0/rho0) + (n*tau*sqrt(K0/rho0) + x1)*k))/(rho0*sqrt(K0/rho0)) - cos(-k*tITMMinus*sqrt(K0/rho0) - (n*tau*sqrt(K0/rho0) - x1)*k)/(rho0*sqrt(K0/rho0)) - (n*rho0*sqrt(K0/rho0)*(cos(-k*tITMMinus*sqrt(K0/rho0) + (n*tau*sqrt(K0/rho0) + x1)*k)/(rho0*sqrt(K0/rho0)) + cos(-k*tITMMinus*sqrt(K0/rho0) + (n*tau*sqrt(K0/rho0) + x1)*k)/(n*rho0*sqrt(K0/rho0))) - 2*cos(-k*tITMMinus*sqrt(K0/rho0) + (n*tau*sqrt(K0/rho0) + x1)*k))/(n*rho0*sqrt(K0/rho0)) - cos(-k*tITMMinus*sqrt(K0/rho0) - (n*tau*sqrt(K0/rho0) - x1)*k)/(n*rho0*sqrt(K0/rho0))) + cos(-k*tITMMinus*sqrt(K0/rho0) + (n*tau*sqrt(K0/rho0) + x1)*k)"
      ]
     },
     "execution_count": 61,
     "metadata": {},
     "output_type": "execute_result"
    }
   ],
   "source": [
    "component1_2"
   ]
  },
  {
   "cell_type": "code",
   "execution_count": 62,
   "id": "3e6ed3b7",
   "metadata": {},
   "outputs": [],
   "source": [
    "component2_2 = w2[1]"
   ]
  },
  {
   "cell_type": "code",
   "execution_count": 63,
   "id": "17e4f338",
   "metadata": {},
   "outputs": [
    {
     "data": {
      "text/plain": [
       "(x1, x2, x3) |--> -1/4*rho0*sqrt(K0/rho0)*((n*rho0*sqrt(K0/rho0)*(cos(-k*tITMMinus*sqrt(K0/rho0) + (n*tau*sqrt(K0/rho0) + x1)*k)/(rho0*sqrt(K0/rho0)) + cos(-k*tITMMinus*sqrt(K0/rho0) + (n*tau*sqrt(K0/rho0) + x1)*k)/(n*rho0*sqrt(K0/rho0))) - n*rho0*sqrt(K0/rho0)*(cos(-k*tITMMinus*sqrt(K0/rho0) - (n*tau*sqrt(K0/rho0) - x1)*k)/(rho0*sqrt(K0/rho0)) + cos(-k*tITMMinus*sqrt(K0/rho0) - (n*tau*sqrt(K0/rho0) - x1)*k)/(n*rho0*sqrt(K0/rho0))) - 2*cos(-k*tITMMinus*sqrt(K0/rho0) + (n*tau*sqrt(K0/rho0) + x1)*k))/(rho0*sqrt(K0/rho0)) - cos(-k*tITMMinus*sqrt(K0/rho0) - (n*tau*sqrt(K0/rho0) - x1)*k)/(rho0*sqrt(K0/rho0)) - (n*rho0*sqrt(K0/rho0)*(cos(-k*tITMMinus*sqrt(K0/rho0) + (n*tau*sqrt(K0/rho0) + x1)*k)/(rho0*sqrt(K0/rho0)) + cos(-k*tITMMinus*sqrt(K0/rho0) + (n*tau*sqrt(K0/rho0) + x1)*k)/(n*rho0*sqrt(K0/rho0))) - 2*cos(-k*tITMMinus*sqrt(K0/rho0) + (n*tau*sqrt(K0/rho0) + x1)*k))/(n*rho0*sqrt(K0/rho0)) - cos(-k*tITMMinus*sqrt(K0/rho0) - (n*tau*sqrt(K0/rho0) - x1)*k)/(n*rho0*sqrt(K0/rho0)))"
      ]
     },
     "execution_count": 63,
     "metadata": {},
     "output_type": "execute_result"
    }
   ],
   "source": [
    "component2_2"
   ]
  },
  {
   "cell_type": "code",
   "execution_count": 64,
   "id": "7743334e",
   "metadata": {},
   "outputs": [],
   "source": [
    "component3_2 = w2[2]"
   ]
  },
  {
   "cell_type": "code",
   "execution_count": 65,
   "id": "fcdae829",
   "metadata": {},
   "outputs": [
    {
     "data": {
      "text/plain": [
       "0"
      ]
     },
     "execution_count": 65,
     "metadata": {},
     "output_type": "execute_result"
    }
   ],
   "source": [
    "component3_2.simplify_full()"
   ]
  },
  {
   "cell_type": "code",
   "execution_count": 66,
   "id": "b61be8e3",
   "metadata": {},
   "outputs": [],
   "source": [
    "component4_2 = w2[3]"
   ]
  },
  {
   "cell_type": "code",
   "execution_count": 67,
   "id": "0b54fe71",
   "metadata": {},
   "outputs": [
    {
     "data": {
      "text/plain": [
       "(x1, x2, x3) |--> 0"
      ]
     },
     "execution_count": 67,
     "metadata": {},
     "output_type": "execute_result"
    }
   ],
   "source": [
    "component4_2"
   ]
  },
  {
   "cell_type": "code",
   "execution_count": 68,
   "id": "75fbf252",
   "metadata": {},
   "outputs": [],
   "source": [
    "q3_component1(x1,x2,x3,t) = component1_2(x1-c3[0]*(t-(tITMMinus + tau))/(k), x2, x3)"
   ]
  },
  {
   "cell_type": "code",
   "execution_count": 69,
   "id": "20558a8a",
   "metadata": {},
   "outputs": [
    {
     "data": {
      "text/plain": [
       "(x1, x2, x3, t) |--> 1/4*((n^2 - 1)*cos(k*t*sqrt(K0/rho0) - k*tITMMinus*sqrt(K0/rho0) - (k*n + k)*tau*sqrt(K0/rho0) + k*x1)*cos(k*tITMMinus*sqrt(K0/rho0)) - (n^2 - 1)*cos(k*t*sqrt(K0/rho0) - k*tITMMinus*sqrt(K0/rho0) + (k*n - k)*tau*sqrt(K0/rho0) + k*x1)*cos(k*tITMMinus*sqrt(K0/rho0)) + (n^2 - 1)*sin(k*t*sqrt(K0/rho0) - k*tITMMinus*sqrt(K0/rho0) - (k*n + k)*tau*sqrt(K0/rho0) + k*x1)*sin(k*tITMMinus*sqrt(K0/rho0)) - (n^2 - 1)*sin(k*t*sqrt(K0/rho0) - k*tITMMinus*sqrt(K0/rho0) + (k*n - k)*tau*sqrt(K0/rho0) + k*x1)*sin(k*tITMMinus*sqrt(K0/rho0)))/n"
      ]
     },
     "execution_count": 69,
     "metadata": {},
     "output_type": "execute_result"
    }
   ],
   "source": [
    "q3_component1.simplify_full()"
   ]
  },
  {
   "cell_type": "code",
   "execution_count": 70,
   "id": "25bd045a",
   "metadata": {},
   "outputs": [],
   "source": [
    "q3_component2(x1,x2,x3,t) = component2_2(x1-c3[1]*(t-tITMMinus-tau)/(k), x2, x3)"
   ]
  },
  {
   "cell_type": "code",
   "execution_count": 71,
   "id": "9296ad32",
   "metadata": {},
   "outputs": [
    {
     "data": {
      "text/plain": [
       "(x1, x2, x3, t) |--> -1/4*((n^2 - 2*n + 1)*cos(-k*t*sqrt(K0/rho0) + k*tITMMinus*sqrt(K0/rho0) + (k*n + k)*tau*sqrt(K0/rho0) + k*x1)*cos(k*tITMMinus*sqrt(K0/rho0)) - (n^2 + 2*n + 1)*cos(-k*t*sqrt(K0/rho0) + k*tITMMinus*sqrt(K0/rho0) - (k*n - k)*tau*sqrt(K0/rho0) + k*x1)*cos(k*tITMMinus*sqrt(K0/rho0)) + (n^2 - 2*n + 1)*sin(-k*t*sqrt(K0/rho0) + k*tITMMinus*sqrt(K0/rho0) + (k*n + k)*tau*sqrt(K0/rho0) + k*x1)*sin(k*tITMMinus*sqrt(K0/rho0)) - (n^2 + 2*n + 1)*sin(-k*t*sqrt(K0/rho0) + k*tITMMinus*sqrt(K0/rho0) - (k*n - k)*tau*sqrt(K0/rho0) + k*x1)*sin(k*tITMMinus*sqrt(K0/rho0)))/n"
      ]
     },
     "execution_count": 71,
     "metadata": {},
     "output_type": "execute_result"
    }
   ],
   "source": [
    "q3_component2.simplify_full()"
   ]
  },
  {
   "cell_type": "code",
   "execution_count": 72,
   "id": "0794632a",
   "metadata": {},
   "outputs": [],
   "source": [
    "q3(x1,x2,x3,t) = vector(R3[:,0].list())*q3_component1 + vector(R3[:,1].list())*q3_component2"
   ]
  },
  {
   "cell_type": "code",
   "execution_count": 73,
   "id": "6033234d",
   "metadata": {},
   "outputs": [],
   "source": [
    "term1 = q3[0]"
   ]
  },
  {
   "cell_type": "code",
   "execution_count": 74,
   "id": "99e3f411",
   "metadata": {},
   "outputs": [
    {
     "data": {
      "text/plain": [
       "(x1, x2, x3, t) |--> -1/2*n*rho0*sqrt(K0/rho0)*(cos(-k*tITMMinus*sqrt(K0/rho0) + (n*tau*sqrt(K0/rho0) + (t - tITMMinus - tau)*sqrt(K0/rho0) + x1)*k)/(rho0*sqrt(K0/rho0)) + cos(-k*tITMMinus*sqrt(K0/rho0) + (n*tau*sqrt(K0/rho0) + (t - tITMMinus - tau)*sqrt(K0/rho0) + x1)*k)/(n*rho0*sqrt(K0/rho0))) + 1/2*n*rho0*sqrt(K0/rho0)*(cos(-k*tITMMinus*sqrt(K0/rho0) - (n*tau*sqrt(K0/rho0) - (t - tITMMinus - tau)*sqrt(K0/rho0) - x1)*k)/(rho0*sqrt(K0/rho0)) + cos(-k*tITMMinus*sqrt(K0/rho0) - (n*tau*sqrt(K0/rho0) - (t - tITMMinus - tau)*sqrt(K0/rho0) - x1)*k)/(n*rho0*sqrt(K0/rho0))) + 1/4*rho0*sqrt(K0/rho0)*((n*rho0*sqrt(K0/rho0)*(cos(-k*tITMMinus*sqrt(K0/rho0) + (n*tau*sqrt(K0/rho0) + (t - tITMMinus - tau)*sqrt(K0/rho0) + x1)*k)/(rho0*sqrt(K0/rho0)) + cos(-k*tITMMinus*sqrt(K0/rho0) + (n*tau*sqrt(K0/rho0) + (t - tITMMinus - tau)*sqrt(K0/rho0) + x1)*k)/(n*rho0*sqrt(K0/rho0))) - n*rho0*sqrt(K0/rho0)*(cos(-k*tITMMinus*sqrt(K0/rho0) - (n*tau*sqrt(K0/rho0) - (t - tITMMinus - tau)*sqrt(K0/rho0) - x1)*k)/(rho0*sqrt(K0/rho0)) + cos(-k*tITMMinus*sqrt(K0/rho0) - (n*tau*sqrt(K0/rho0) - (t - tITMMinus - tau)*sqrt(K0/rho0) - x1)*k)/(n*rho0*sqrt(K0/rho0))) - 2*cos(-k*tITMMinus*sqrt(K0/rho0) + (n*tau*sqrt(K0/rho0) + (t - tITMMinus - tau)*sqrt(K0/rho0) + x1)*k))/(rho0*sqrt(K0/rho0)) - cos(-k*tITMMinus*sqrt(K0/rho0) - (n*tau*sqrt(K0/rho0) - (t - tITMMinus - tau)*sqrt(K0/rho0) - x1)*k)/(rho0*sqrt(K0/rho0)) - (n*rho0*sqrt(K0/rho0)*(cos(-k*tITMMinus*sqrt(K0/rho0) + (n*tau*sqrt(K0/rho0) + (t - tITMMinus - tau)*sqrt(K0/rho0) + x1)*k)/(rho0*sqrt(K0/rho0)) + cos(-k*tITMMinus*sqrt(K0/rho0) + (n*tau*sqrt(K0/rho0) + (t - tITMMinus - tau)*sqrt(K0/rho0) + x1)*k)/(n*rho0*sqrt(K0/rho0))) - 2*cos(-k*tITMMinus*sqrt(K0/rho0) + (n*tau*sqrt(K0/rho0) + (t - tITMMinus - tau)*sqrt(K0/rho0) + x1)*k))/(n*rho0*sqrt(K0/rho0)) - cos(-k*tITMMinus*sqrt(K0/rho0) - (n*tau*sqrt(K0/rho0) - (t - tITMMinus - tau)*sqrt(K0/rho0) - x1)*k)/(n*rho0*sqrt(K0/rho0))) + 1/4*rho0*sqrt(K0/rho0)*((n*rho0*sqrt(K0/rho0)*(cos(-k*tITMMinus*sqrt(K0/rho0) - (n*tau*sqrt(K0/rho0) + (t - tITMMinus - tau)*sqrt(K0/rho0) - x1)*k)/(rho0*sqrt(K0/rho0)) + cos(-k*tITMMinus*sqrt(K0/rho0) - (n*tau*sqrt(K0/rho0) + (t - tITMMinus - tau)*sqrt(K0/rho0) - x1)*k)/(n*rho0*sqrt(K0/rho0))) - n*rho0*sqrt(K0/rho0)*(cos(-k*tITMMinus*sqrt(K0/rho0) + (n*tau*sqrt(K0/rho0) - (t - tITMMinus - tau)*sqrt(K0/rho0) + x1)*k)/(rho0*sqrt(K0/rho0)) + cos(-k*tITMMinus*sqrt(K0/rho0) + (n*tau*sqrt(K0/rho0) - (t - tITMMinus - tau)*sqrt(K0/rho0) + x1)*k)/(n*rho0*sqrt(K0/rho0))) + 2*cos(-k*tITMMinus*sqrt(K0/rho0) + (n*tau*sqrt(K0/rho0) - (t - tITMMinus - tau)*sqrt(K0/rho0) + x1)*k))/(rho0*sqrt(K0/rho0)) + cos(-k*tITMMinus*sqrt(K0/rho0) - (n*tau*sqrt(K0/rho0) + (t - tITMMinus - tau)*sqrt(K0/rho0) - x1)*k)/(rho0*sqrt(K0/rho0)) + (n*rho0*sqrt(K0/rho0)*(cos(-k*tITMMinus*sqrt(K0/rho0) + (n*tau*sqrt(K0/rho0) - (t - tITMMinus - tau)*sqrt(K0/rho0) + x1)*k)/(rho0*sqrt(K0/rho0)) + cos(-k*tITMMinus*sqrt(K0/rho0) + (n*tau*sqrt(K0/rho0) - (t - tITMMinus - tau)*sqrt(K0/rho0) + x1)*k)/(n*rho0*sqrt(K0/rho0))) - 2*cos(-k*tITMMinus*sqrt(K0/rho0) + (n*tau*sqrt(K0/rho0) - (t - tITMMinus - tau)*sqrt(K0/rho0) + x1)*k))/(n*rho0*sqrt(K0/rho0)) + cos(-k*tITMMinus*sqrt(K0/rho0) - (n*tau*sqrt(K0/rho0) + (t - tITMMinus - tau)*sqrt(K0/rho0) - x1)*k)/(n*rho0*sqrt(K0/rho0))) + cos(-k*tITMMinus*sqrt(K0/rho0) + (n*tau*sqrt(K0/rho0) + (t - tITMMinus - tau)*sqrt(K0/rho0) + x1)*k)"
      ]
     },
     "execution_count": 74,
     "metadata": {},
     "output_type": "execute_result"
    }
   ],
   "source": [
    "term1"
   ]
  },
  {
   "cell_type": "code",
   "execution_count": 75,
   "id": "da1e969a",
   "metadata": {},
   "outputs": [],
   "source": [
    "test31 = (q3.diff(t) + A3*q3.diff(x1) + B3*q3.diff(x2) + C3*q3.diff(x3))[0]\n",
    "test32 = (q3.diff(t) + A3*q3.diff(x1) + B3*q3.diff(x2) + C3*q3.diff(x3))[1]\n",
    "test33 = (q3.diff(t) + A3*q3.diff(x1) + B3*q3.diff(x2) + C3*q3.diff(x3))[2]\n",
    "test34 = (q3.diff(t) + A3*q3.diff(x1) + B3*q3.diff(x2) + C3*q3.diff(x3))[3]\n"
   ]
  },
  {
   "cell_type": "code",
   "execution_count": 76,
   "id": "44a5f75c",
   "metadata": {},
   "outputs": [
    {
     "data": {
      "text/plain": [
       "((x1, x2, x3, t) |--> 0, (x1, x2, x3, t) |--> 0, 0, 0)"
      ]
     },
     "execution_count": 76,
     "metadata": {},
     "output_type": "execute_result"
    }
   ],
   "source": [
    "test31.simplify_full(), test32.simplify_full(), test33.simplify_full(), test34.simplify_full()"
   ]
  },
  {
   "cell_type": "code",
   "execution_count": 77,
   "id": "035bcb71",
   "metadata": {},
   "outputs": [],
   "source": [
    "energy3 = definite_integral(0.5*q3(x1,x2,x3,t)[0]*q3(x1,x2,x3,t)[0]/(K0) + 0.5*rho0*(q3(x1,x2,x3,t)[1]*q3(x1,x2,x3,t)[1]+q3(x1,x2,x3,t)[2]*q3(x1,x2,x3,t)[2]+q3(x1,x2,x3,t)[3]*q3(x1,x2,x3,t)[3]),x1,-pi/k,pi/k)"
   ]
  },
  {
   "cell_type": "code",
   "execution_count": 80,
   "id": "ccd33d03",
   "metadata": {},
   "outputs": [
    {
     "data": {
      "text/plain": [
       "-1/16*(4*(pi + pi*n^4 - 2*pi*n^2)*rho0*sqrt(K0/rho0)*cos(k*n*tau*sqrt(K0/rho0))^2 - (pi*sqrt(K0)*n^4 + 2*pi*sqrt(K0)*n^3 - 2*pi*sqrt(K0)*n - pi*sqrt(K0))*sqrt(rho0)*cos((k*t - k*tITMMinus + (k*n - k)*tau)*sqrt(K0)/sqrt(rho0))^2 + (pi*sqrt(K0)*n^4 + 2*pi*sqrt(K0)*n^3 - 2*pi*sqrt(K0)*n - pi*sqrt(K0))*sqrt(rho0)*sin((k*t - k*tITMMinus + (k*n - k)*tau)*sqrt(K0)/sqrt(rho0))^2 - 2*((2*pi*n^4 + 3*pi*n^3 - 2*pi*n^2 - 3*pi*n)*rho0*sqrt(K0/rho0) - (4*pi*sqrt(K0)*n^4 + 3*pi*sqrt(K0)*n^3 - 6*pi*sqrt(K0)*n^2 - 3*pi*sqrt(K0)*n + 2*pi*sqrt(K0))*sqrt(rho0))*cos(sqrt(K0)*k*n*tau/sqrt(rho0))^2 + ((pi + pi*n^3 - pi*n^2 - pi*n)*rho0*sqrt(K0/rho0) - (pi*sqrt(K0)*n^4 - pi*sqrt(K0)*n^3 - pi*sqrt(K0)*n^2 + pi*sqrt(K0)*n)*sqrt(rho0))*cos((k*t - k*tITMMinus - (k*n + k)*tau)*sqrt(K0)/sqrt(rho0))^2 - ((pi + pi*n^3 - pi*n^2 - pi*n)*rho0*sqrt(K0/rho0) - (2*pi*sqrt(K0)*n^4 + pi*sqrt(K0)*n^3 - pi*sqrt(K0)*n^2 - pi*sqrt(K0)*n - pi*sqrt(K0))*sqrt(rho0))*cos((k*t - k*tITMMinus - k*tau)*sqrt(K0)/sqrt(rho0))^2 - ((pi + pi*n^3 - pi*n^2 - pi*n)*rho0*sqrt(K0/rho0) - (pi*sqrt(K0)*n^4 - pi*sqrt(K0)*n^3 - pi*sqrt(K0)*n^2 + pi*sqrt(K0)*n)*sqrt(rho0))*sin((k*t - k*tITMMinus - (k*n + k)*tau)*sqrt(K0)/sqrt(rho0))^2 + ((pi + pi*n^3 - pi*n^2 - pi*n)*rho0*sqrt(K0/rho0) - (2*pi*sqrt(K0)*n^4 + pi*sqrt(K0)*n^3 - pi*sqrt(K0)*n^2 - pi*sqrt(K0)*n - pi*sqrt(K0))*sqrt(rho0))*sin((k*t - k*tITMMinus - k*tau)*sqrt(K0)/sqrt(rho0))^2 - 2*(5*pi + 3*pi*n^4 + 3*pi*n^3 + 5*pi*n^2 + 3*pi*n)*rho0*sqrt(K0/rho0) - ((pi - pi*n^4 + 2*pi*n^3 - 2*pi*n)*rho0*sqrt(K0/rho0)*cos(2*k*t*sqrt(K0/rho0))*cos(2*k*tITMMinus*sqrt(K0/rho0)) + (pi - pi*n^4 + 2*pi*n^3 - 2*pi*n)*rho0*sqrt(K0/rho0)*sin(2*k*t*sqrt(K0/rho0))*sin(2*k*tITMMinus*sqrt(K0/rho0)))*cos(2*(k*n + k)*tau*sqrt(K0/rho0)) - ((pi - pi*n^4 - 2*pi*n^3 + 2*pi*n)*rho0*sqrt(K0/rho0)*cos(2*k*t*sqrt(K0/rho0))*cos(2*k*tITMMinus*sqrt(K0/rho0)) + (pi - pi*n^4 - 2*pi*n^3 + 2*pi*n)*rho0*sqrt(K0/rho0)*sin(2*k*t*sqrt(K0/rho0))*sin(2*k*tITMMinus*sqrt(K0/rho0)))*cos(2*(k*n - k)*tau*sqrt(K0/rho0)) + 2*((pi - pi*n^4)*rho0*sqrt(K0/rho0)*cos(2*k*t*sqrt(K0/rho0))*cos(2*k*tITMMinus*sqrt(K0/rho0)) + (pi - pi*n^4)*rho0*sqrt(K0/rho0)*sin(2*k*t*sqrt(K0/rho0))*sin(2*k*tITMMinus*sqrt(K0/rho0)))*cos(2*k*tau*sqrt(K0/rho0)) - ((pi - pi*n^4 + 2*pi*n^3 - 2*pi*n)*rho0*sqrt(K0/rho0)*cos(2*k*tITMMinus*sqrt(K0/rho0))*sin(2*k*t*sqrt(K0/rho0)) - (pi - pi*n^4 + 2*pi*n^3 - 2*pi*n)*rho0*sqrt(K0/rho0)*cos(2*k*t*sqrt(K0/rho0))*sin(2*k*tITMMinus*sqrt(K0/rho0)))*sin(2*(k*n + k)*tau*sqrt(K0/rho0)) + ((pi - pi*n^4 - 2*pi*n^3 + 2*pi*n)*rho0*sqrt(K0/rho0)*cos(2*k*tITMMinus*sqrt(K0/rho0))*sin(2*k*t*sqrt(K0/rho0)) - (pi - pi*n^4 - 2*pi*n^3 + 2*pi*n)*rho0*sqrt(K0/rho0)*cos(2*k*t*sqrt(K0/rho0))*sin(2*k*tITMMinus*sqrt(K0/rho0)))*sin(2*(k*n - k)*tau*sqrt(K0/rho0)) + 2*((pi - pi*n^4)*rho0*sqrt(K0/rho0)*cos(2*k*tITMMinus*sqrt(K0/rho0))*sin(2*k*t*sqrt(K0/rho0)) - (pi - pi*n^4)*rho0*sqrt(K0/rho0)*cos(2*k*t*sqrt(K0/rho0))*sin(2*k*tITMMinus*sqrt(K0/rho0)))*sin(2*k*tau*sqrt(K0/rho0)) - 2*(pi*sqrt(K0)*n^4 - 3*pi*sqrt(K0)*n^3 - 5*pi*sqrt(K0)*n^2 - 3*pi*sqrt(K0)*n - pi*sqrt(K0))*sqrt(rho0))/(K0*k*n^2*rho0*sqrt(K0/rho0))"
      ]
     },
     "execution_count": 80,
     "metadata": {},
     "output_type": "execute_result"
    }
   ],
   "source": [
    "energy3.simplify_full()"
   ]
  },
  {
   "cell_type": "code",
   "execution_count": null,
   "id": "3cf08446",
   "metadata": {},
   "outputs": [],
   "source": []
  }
 ],
 "metadata": {
  "kernelspec": {
   "display_name": "SageMath 9.5",
   "language": "sage",
   "name": "sagemath"
  },
  "language_info": {
   "codemirror_mode": {
    "name": "ipython",
    "version": 3
   },
   "file_extension": ".py",
   "mimetype": "text/x-python",
   "name": "python",
   "nbconvert_exporter": "python",
   "pygments_lexer": "ipython3",
   "version": "3.10.6"
  }
 },
 "nbformat": 4,
 "nbformat_minor": 5
}
