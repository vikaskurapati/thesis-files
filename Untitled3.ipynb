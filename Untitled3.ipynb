{
 "cells": [
  {
   "cell_type": "code",
   "execution_count": 56,
   "id": "fa721330",
   "metadata": {},
   "outputs": [],
   "source": [
    "p = var('p')\n",
    "u = var('u')\n",
    "x = var('x')\n",
    "t = var('t')\n",
    "rho0 = var('rho0')\n",
    "c0 = var('c0')\n",
    "k = var('k')\n",
    "w = var('w')\n",
    "n = var('n')\n",
    "K0 = var('K0')\n",
    "n1 = var('n1')\n",
    "n2 = sqrt(1 - n1^2)"
   ]
  },
  {
   "cell_type": "code",
   "execution_count": 57,
   "id": "31950494",
   "metadata": {},
   "outputs": [],
   "source": [
    "A = Matrix([[0, 0, 1/rho0],\n",
    "            [0, 0, 0],  \n",
    "            [K0,0,0]])"
   ]
  },
  {
   "cell_type": "code",
   "execution_count": 58,
   "id": "618bcf56",
   "metadata": {},
   "outputs": [
    {
     "data": {
      "text/plain": [
       "[-sqrt(K0/rho0), sqrt(K0/rho0), 0]"
      ]
     },
     "execution_count": 58,
     "metadata": {},
     "output_type": "execute_result"
    }
   ],
   "source": [
    "A.eigenvalues()"
   ]
  },
  {
   "cell_type": "code",
   "execution_count": 59,
   "id": "0e33bf3e",
   "metadata": {},
   "outputs": [],
   "source": [
    "eigen_matrix = A.eigenmatrix_right()[1]"
   ]
  },
  {
   "cell_type": "code",
   "execution_count": 60,
   "id": "35a2de69",
   "metadata": {},
   "outputs": [
    {
     "data": {
      "text/plain": [
       "[                  1                   1                   0]\n",
       "[                  0                   0                   1]\n",
       "[-rho0*sqrt(K0/rho0)  rho0*sqrt(K0/rho0)                   0]"
      ]
     },
     "execution_count": 60,
     "metadata": {},
     "output_type": "execute_result"
    }
   ],
   "source": [
    "eigen_matrix"
   ]
  },
  {
   "cell_type": "code",
   "execution_count": 41,
   "id": "8848bcad",
   "metadata": {},
   "outputs": [
    {
     "data": {
      "text/plain": [
       "[-sqrt(K0/rho0)              0              0]\n",
       "[             0  sqrt(K0/rho0)              0]\n",
       "[             0              0              0]"
      ]
     },
     "execution_count": 41,
     "metadata": {},
     "output_type": "execute_result"
    }
   ],
   "source": [
    "A.eigenmatrix_right()[0]"
   ]
  },
  {
   "cell_type": "code",
   "execution_count": 43,
   "id": "3784d9c0",
   "metadata": {},
   "outputs": [],
   "source": [
    "mod = Matrix([[sqrt(K0/rho0) ,0,              0],\n",
    "[             0  ,sqrt(K0/rho0),              0],\n",
    "[             0   ,           0              ,0]])"
   ]
  },
  {
   "cell_type": "code",
   "execution_count": 44,
   "id": "044edbfd",
   "metadata": {},
   "outputs": [
    {
     "data": {
      "text/plain": [
       "[sqrt(K0/rho0)             0             0]\n",
       "[            0 sqrt(K0/rho0)             0]\n",
       "[            0             0             0]"
      ]
     },
     "execution_count": 44,
     "metadata": {},
     "output_type": "execute_result"
    }
   ],
   "source": [
    "mod"
   ]
  },
  {
   "cell_type": "code",
   "execution_count": 46,
   "id": "a600441d",
   "metadata": {},
   "outputs": [],
   "source": [
    "A_prime = eigen_matrix*mod*eigen_matrix.inverse()"
   ]
  },
  {
   "cell_type": "code",
   "execution_count": 47,
   "id": "ad4354eb",
   "metadata": {},
   "outputs": [
    {
     "data": {
      "text/plain": [
       "[          sqrt(K0/rho0)                       0                       0]\n",
       "[                      0                       0                       0]\n",
       "[                      0                       0 K0/(rho0*sqrt(K0/rho0))]"
      ]
     },
     "execution_count": 47,
     "metadata": {},
     "output_type": "execute_result"
    }
   ],
   "source": [
    "A_prime.simplify_full()"
   ]
  },
  {
   "cell_type": "code",
   "execution_count": null,
   "id": "a3806765",
   "metadata": {},
   "outputs": [],
   "source": []
  },
  {
   "cell_type": "code",
   "execution_count": null,
   "id": "55197aa9",
   "metadata": {},
   "outputs": [],
   "source": []
  },
  {
   "cell_type": "code",
   "execution_count": 23,
   "id": "44f41550",
   "metadata": {},
   "outputs": [],
   "source": [
    "B = Matrix([[0, 0, 0],\n",
    "            [0, 0, 1/rho0],  \n",
    "            [0,K0,0]])"
   ]
  },
  {
   "cell_type": "code",
   "execution_count": 24,
   "id": "17f513d5",
   "metadata": {},
   "outputs": [
    {
     "data": {
      "text/plain": [
       "[-sqrt(K0/rho0), sqrt(K0/rho0), 0]"
      ]
     },
     "execution_count": 24,
     "metadata": {},
     "output_type": "execute_result"
    }
   ],
   "source": [
    "B.eigenvalues()"
   ]
  },
  {
   "cell_type": "code",
   "execution_count": 25,
   "id": "2d725659",
   "metadata": {},
   "outputs": [
    {
     "data": {
      "text/plain": [
       "[                  0                   0                   1]\n",
       "[                  1                   1                   0]\n",
       "[-rho0*sqrt(K0/rho0)  rho0*sqrt(K0/rho0)                   0]"
      ]
     },
     "execution_count": 25,
     "metadata": {},
     "output_type": "execute_result"
    }
   ],
   "source": [
    "B.eigenmatrix_right()[1]"
   ]
  },
  {
   "cell_type": "code",
   "execution_count": 61,
   "id": "b0542ea7",
   "metadata": {},
   "outputs": [
    {
     "data": {
      "text/plain": [
       "[                      0                       0                       0]\n",
       "[                      0           sqrt(K0/rho0)                       0]\n",
       "[                      0                       0 K0/(rho0*sqrt(K0/rho0))]"
      ]
     },
     "execution_count": 61,
     "metadata": {},
     "output_type": "execute_result"
    }
   ],
   "source": [
    "B.eigenmatrix_right()[1]*mod*B.eigenmatrix_right()[1].inverse()"
   ]
  },
  {
   "cell_type": "code",
   "execution_count": 48,
   "id": "4c2a4a76",
   "metadata": {},
   "outputs": [],
   "source": [
    "Ahat = A*n1 + B*n2"
   ]
  },
  {
   "cell_type": "code",
   "execution_count": 49,
   "id": "0e21d20f",
   "metadata": {},
   "outputs": [
    {
     "data": {
      "text/plain": [
       "[                   0                    0              n1/rho0]\n",
       "[                   0                    0 sqrt(-n1^2 + 1)/rho0]\n",
       "[               K0*n1   sqrt(-n1^2 + 1)*K0                    0]"
      ]
     },
     "execution_count": 49,
     "metadata": {},
     "output_type": "execute_result"
    }
   ],
   "source": [
    "Ahat"
   ]
  },
  {
   "cell_type": "code",
   "execution_count": 50,
   "id": "3d6e5701",
   "metadata": {},
   "outputs": [
    {
     "data": {
      "text/plain": [
       "[-sqrt(K0/rho0), sqrt(K0/rho0), 0]"
      ]
     },
     "execution_count": 50,
     "metadata": {},
     "output_type": "execute_result"
    }
   ],
   "source": [
    "Ahat.eigenvalues()"
   ]
  },
  {
   "cell_type": "code",
   "execution_count": 51,
   "id": "1049e672",
   "metadata": {},
   "outputs": [
    {
     "data": {
      "text/plain": [
       "[                            1                             1                             1]\n",
       "[           sqrt(-n1^2 + 1)/n1            sqrt(-n1^2 + 1)/n1 sqrt(-n1^2 + 1)*n1/(n1^2 - 1)]\n",
       "[       -rho0*sqrt(K0/rho0)/n1         rho0*sqrt(K0/rho0)/n1                             0]"
      ]
     },
     "execution_count": 51,
     "metadata": {},
     "output_type": "execute_result"
    }
   ],
   "source": [
    "Ahat.eigenmatrix_right()[1]"
   ]
  },
  {
   "cell_type": "code",
   "execution_count": 52,
   "id": "36d88f0c",
   "metadata": {},
   "outputs": [
    {
     "data": {
      "text/plain": [
       "[-sqrt(K0/rho0)              0              0]\n",
       "[             0  sqrt(K0/rho0)              0]\n",
       "[             0              0              0]"
      ]
     },
     "execution_count": 52,
     "metadata": {},
     "output_type": "execute_result"
    }
   ],
   "source": [
    "Ahat.eigenmatrix_right()[0]"
   ]
  },
  {
   "cell_type": "code",
   "execution_count": 53,
   "id": "fa2d1779",
   "metadata": {},
   "outputs": [],
   "source": [
    "mod = Matrix([[sqrt(K0/rho0) ,0,              0],\n",
    "[             0  ,sqrt(K0/rho0),              0],\n",
    "[             0   ,           0              ,0]])"
   ]
  },
  {
   "cell_type": "code",
   "execution_count": 54,
   "id": "22fc38e7",
   "metadata": {},
   "outputs": [],
   "source": [
    "A_hat_prime = Ahat.eigenmatrix_right()[1]*mod*Ahat.eigenmatrix_right()[1].inverse()"
   ]
  },
  {
   "cell_type": "code",
   "execution_count": 55,
   "id": "921a706a",
   "metadata": {},
   "outputs": [
    {
     "data": {
      "text/plain": [
       "[                        n1^2*sqrt(K0/rho0) -(n1^3 - n1)*sqrt(K0/rho0)/sqrt(-n1^2 + 1)                                          0]\n",
       "[          sqrt(-n1^2 + 1)*n1*sqrt(K0/rho0)                  -(n1^2 - 1)*sqrt(K0/rho0)                                          0]\n",
       "[                                         0                                          0                    K0/(rho0*sqrt(K0/rho0))]"
      ]
     },
     "execution_count": 55,
     "metadata": {},
     "output_type": "execute_result"
    }
   ],
   "source": [
    "A_hat_prime.simplify_full()"
   ]
  },
  {
   "cell_type": "code",
   "execution_count": null,
   "id": "429c61ae",
   "metadata": {},
   "outputs": [],
   "source": []
  }
 ],
 "metadata": {
  "kernelspec": {
   "display_name": "SageMath 9.5",
   "language": "sage",
   "name": "sagemath"
  },
  "language_info": {
   "codemirror_mode": {
    "name": "ipython",
    "version": 3
   },
   "file_extension": ".py",
   "mimetype": "text/x-python",
   "name": "python",
   "nbconvert_exporter": "python",
   "pygments_lexer": "ipython3",
   "version": "3.10.6"
  }
 },
 "nbformat": 4,
 "nbformat_minor": 5
}
