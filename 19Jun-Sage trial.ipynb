{
 "cells": [
  {
   "cell_type": "code",
   "execution_count": 1,
   "id": "c8870da0",
   "metadata": {},
   "outputs": [],
   "source": [
    "p = var('p')\n",
    "u = var('u')\n",
    "x = var('x')\n",
    "t = var('t')\n",
    "rho0 = var('rho0')\n",
    "c0 = var('c0')\n",
    "k = var('k')\n",
    "w = var('w')\n",
    "n = var('n')"
   ]
  },
  {
   "cell_type": "code",
   "execution_count": 2,
   "id": "9ede7275",
   "metadata": {},
   "outputs": [],
   "source": [
    "p0(x) = rho0*c0*cos(k*x)\n",
    "u0(x) = 1*cos(k*x)"
   ]
  },
  {
   "cell_type": "code",
   "execution_count": 3,
   "id": "bd65a242",
   "metadata": {},
   "outputs": [
    {
     "data": {
      "text/plain": [
       "x |--> c0*rho0*cos(k*x)"
      ]
     },
     "execution_count": 3,
     "metadata": {},
     "output_type": "execute_result"
    }
   ],
   "source": [
    "p0"
   ]
  },
  {
   "cell_type": "code",
   "execution_count": 4,
   "id": "157e0e45",
   "metadata": {},
   "outputs": [],
   "source": [
    "p(x, t) = 0.5*(p0(x + c0*t) + p0(x - c0*t)) - 0.5*rho0*c0*(u0(x+c0*t) - u0(x-c0*t))"
   ]
  },
  {
   "cell_type": "code",
   "execution_count": 5,
   "id": "09900854",
   "metadata": {},
   "outputs": [
    {
     "data": {
      "text/plain": [
       "1.0*c0*rho0*cos(-c0*k*t + k*x)"
      ]
     },
     "execution_count": 5,
     "metadata": {},
     "output_type": "execute_result"
    }
   ],
   "source": [
    "p.simplify_full()"
   ]
  },
  {
   "cell_type": "code",
   "execution_count": 6,
   "id": "d0009ffe",
   "metadata": {},
   "outputs": [],
   "source": [
    "u(x, t) = -0.5*(p0(x + c0*t) - p0(x - c0*t))/(rho0*c0) + 0.5*(u0(x+c0*t) + u0(x - c0*t))"
   ]
  },
  {
   "cell_type": "code",
   "execution_count": 7,
   "id": "2b195801",
   "metadata": {},
   "outputs": [
    {
     "data": {
      "text/plain": [
       "1.0*cos(-c0*k*t + k*x)"
      ]
     },
     "execution_count": 7,
     "metadata": {},
     "output_type": "execute_result"
    }
   ],
   "source": [
    "u.simplify_full()"
   ]
  },
  {
   "cell_type": "code",
   "execution_count": 8,
   "id": "a7419dd4",
   "metadata": {},
   "outputs": [],
   "source": [
    "test = diff(p, t) + rho0*c0*c0*diff(u,x)"
   ]
  },
  {
   "cell_type": "code",
   "execution_count": 9,
   "id": "6ac699b4",
   "metadata": {},
   "outputs": [
    {
     "data": {
      "text/plain": [
       "0"
      ]
     },
     "execution_count": 9,
     "metadata": {},
     "output_type": "execute_result"
    }
   ],
   "source": [
    "test.simplify_full()"
   ]
  },
  {
   "cell_type": "code",
   "execution_count": 10,
   "id": "2f20a89d",
   "metadata": {},
   "outputs": [],
   "source": [
    "from sage.symbolic.integration.integral import definite_integral\n",
    "K(rho0, c0) = c0*c0*rho0\n",
    "energy = definite_integral(0.5*p(x, t)*p(x, t)/K(rho0, c0) + 0.5*rho0*u(x,t)*u(x,t), x, -pi/k, pi/k)"
   ]
  },
  {
   "cell_type": "code",
   "execution_count": 11,
   "id": "6858e800",
   "metadata": {},
   "outputs": [
    {
     "data": {
      "text/plain": [
       "1.0*pi*rho0/k"
      ]
     },
     "execution_count": 11,
     "metadata": {},
     "output_type": "execute_result"
    }
   ],
   "source": [
    "energy.simplify_full()"
   ]
  },
  {
   "cell_type": "code",
   "execution_count": 12,
   "id": "cc01a2c2",
   "metadata": {},
   "outputs": [],
   "source": [
    "tITMminus = var('tITMminus')"
   ]
  },
  {
   "cell_type": "code",
   "execution_count": 13,
   "id": "32e9c289",
   "metadata": {},
   "outputs": [],
   "source": [
    "p0tITMminus(x) = p(x, tITMminus)"
   ]
  },
  {
   "cell_type": "code",
   "execution_count": 14,
   "id": "59cb53b9",
   "metadata": {},
   "outputs": [],
   "source": [
    "u0tITMminus(x) = u(x, tITMminus)"
   ]
  },
  {
   "cell_type": "code",
   "execution_count": 15,
   "id": "311fd861",
   "metadata": {},
   "outputs": [
    {
     "data": {
      "text/plain": [
       "1.0*c0*rho0*cos(-c0*k*tITMminus + k*x)"
      ]
     },
     "execution_count": 15,
     "metadata": {},
     "output_type": "execute_result"
    }
   ],
   "source": [
    "p0tITMminus.simplify_full()"
   ]
  },
  {
   "cell_type": "code",
   "execution_count": 16,
   "id": "825f2c98",
   "metadata": {},
   "outputs": [
    {
     "data": {
      "text/plain": [
       "1.0*cos(-c0*k*tITMminus + k*x)"
      ]
     },
     "execution_count": 16,
     "metadata": {},
     "output_type": "execute_result"
    }
   ],
   "source": [
    "u0tITMminus.simplify_full()"
   ]
  },
  {
   "cell_type": "code",
   "execution_count": 17,
   "id": "c07b56d6",
   "metadata": {},
   "outputs": [],
   "source": [
    "p2(x, t) = 0.5*(p0tITMminus(x + n*c0*(t-tITMminus)) + p0tITMminus(x - n*c0*(t-tITMminus))) - 0.5*n*rho0*c0*(u0tITMminus(x + n*c0*(t-tITMminus)) - u0tITMminus(x - n*c0*(t-tITMminus)))\n",
    "u2(x, t) = -0.5*(p0tITMminus(x + n*c0*(t-tITMminus)) - p0tITMminus(x - n*c0*(t-tITMminus)))/(n*rho0*c0) + 0.5*(u0tITMminus(x + n*c0*(t-tITMminus)) + u0tITMminus(x - n*c0*(t-tITMminus)))"
   ]
  },
  {
   "cell_type": "code",
   "execution_count": 18,
   "id": "33db5779",
   "metadata": {},
   "outputs": [
    {
     "data": {
      "text/plain": [
       "(-0.5*c0*n + 0.5*c0)*rho0*cos(c0*k*n*t - (c0*k*n + c0*k)*tITMminus + k*x) + (0.5*c0*n + 0.5*c0)*rho0*cos(-c0*k*n*t + (c0*k*n - c0*k)*tITMminus + k*x)"
      ]
     },
     "execution_count": 18,
     "metadata": {},
     "output_type": "execute_result"
    }
   ],
   "source": [
    "p2.simplify_full()"
   ]
  },
  {
   "cell_type": "code",
   "execution_count": 19,
   "id": "0f7e8fbd",
   "metadata": {},
   "outputs": [
    {
     "data": {
      "text/plain": [
       "((0.5*n - 0.5)*cos(c0*k*n*t - (c0*k*n + c0*k)*tITMminus + k*x) + (0.5*n + 0.5)*cos(-c0*k*n*t + (c0*k*n - c0*k)*tITMminus + k*x))/n"
      ]
     },
     "execution_count": 19,
     "metadata": {},
     "output_type": "execute_result"
    }
   ],
   "source": [
    "u2.simplify_full()"
   ]
  },
  {
   "cell_type": "code",
   "execution_count": 20,
   "id": "5371f96a",
   "metadata": {},
   "outputs": [],
   "source": [
    "test1 = diff(p2, t) + n*n*rho0*c0*c0*diff(u2, x)\n",
    "test2 = rho0*diff(u2, t) + diff(p2, x)"
   ]
  },
  {
   "cell_type": "code",
   "execution_count": 21,
   "id": "0923d05b",
   "metadata": {},
   "outputs": [
    {
     "data": {
      "text/plain": [
       "0"
      ]
     },
     "execution_count": 21,
     "metadata": {},
     "output_type": "execute_result"
    }
   ],
   "source": [
    "test1.simplify_full()"
   ]
  },
  {
   "cell_type": "code",
   "execution_count": 22,
   "id": "7586b37f",
   "metadata": {},
   "outputs": [
    {
     "data": {
      "text/plain": [
       "0"
      ]
     },
     "execution_count": 22,
     "metadata": {},
     "output_type": "execute_result"
    }
   ],
   "source": [
    "test2.simplify_full()"
   ]
  },
  {
   "cell_type": "code",
   "execution_count": 23,
   "id": "f184e949",
   "metadata": {},
   "outputs": [],
   "source": [
    "K2(rho0, c0) = n*n*c0*c0*rho0\n",
    "energy2 = definite_integral(0.5*p2(x, t)*p2(x, t)/K2(rho0, c0) + 0.5*rho0*u2(x,t)*u2(x,t), x, -pi/k, pi/k)"
   ]
  },
  {
   "cell_type": "code",
   "execution_count": 24,
   "id": "43e6b4fd",
   "metadata": {},
   "outputs": [
    {
     "data": {
      "text/plain": [
       "1/4*(2.0*pi + 2.0*pi*n^2)*rho0/(k*n^2)"
      ]
     },
     "execution_count": 24,
     "metadata": {},
     "output_type": "execute_result"
    }
   ],
   "source": [
    "energy2.simplify_full()"
   ]
  },
  {
   "cell_type": "code",
   "execution_count": 25,
   "id": "73a2d50c",
   "metadata": {},
   "outputs": [
    {
     "data": {
      "text/plain": [
       "(0.5*n^2 + 0.5)/n^2"
      ]
     },
     "execution_count": 25,
     "metadata": {},
     "output_type": "execute_result"
    }
   ],
   "source": [
    "ratio = energy2/energy\n",
    "ratio.simplify_full()"
   ]
  },
  {
   "cell_type": "code",
   "execution_count": 26,
   "id": "28e34455",
   "metadata": {},
   "outputs": [],
   "source": [
    "tau = var('tau')\n",
    "tITMplus(tITMminus, tau) = tITMminus + tau"
   ]
  },
  {
   "cell_type": "code",
   "execution_count": 27,
   "id": "79222d70",
   "metadata": {},
   "outputs": [],
   "source": [
    "p0tITMplus(x) = p2(x, tITMplus)\n",
    "u0tITMplus(x) = u2(x, tITMplus)"
   ]
  },
  {
   "cell_type": "code",
   "execution_count": 28,
   "id": "3f1074eb",
   "metadata": {},
   "outputs": [
    {
     "data": {
      "text/plain": [
       "(-0.5*c0*n + 0.5*c0)*rho0*cos(c0*k*n*tau - c0*k*tITMminus + k*x) + (0.5*c0*n + 0.5*c0)*rho0*cos(-c0*k*n*tau - c0*k*tITMminus + k*x)"
      ]
     },
     "execution_count": 28,
     "metadata": {},
     "output_type": "execute_result"
    }
   ],
   "source": [
    "p0tITMplus.simplify_full()"
   ]
  },
  {
   "cell_type": "code",
   "execution_count": 29,
   "id": "c639345e",
   "metadata": {},
   "outputs": [
    {
     "data": {
      "text/plain": [
       "((0.5*n - 0.5)*cos(c0*k*n*tau - c0*k*tITMminus + k*x) + (0.5*n + 0.5)*cos(-c0*k*n*tau - c0*k*tITMminus + k*x))/n"
      ]
     },
     "execution_count": 29,
     "metadata": {},
     "output_type": "execute_result"
    }
   ],
   "source": [
    "u0tITMplus.simplify_full()"
   ]
  },
  {
   "cell_type": "code",
   "execution_count": 30,
   "id": "9e1cb1e2",
   "metadata": {},
   "outputs": [],
   "source": [
    "p3(x, t) = 0.5*(p0tITMplus(x + c0*(t-tITMplus)) + p0tITMplus(x - c0*(t-tITMplus))) - 0.5*rho0*c0*(u0tITMplus(x + c0*(t-tITMplus)) - u0tITMplus(x - c0*(t-tITMplus)))\n",
    "u3(x, t) = -0.5*(p0tITMplus(x + c0*(t-tITMplus)) - p0tITMplus(x - c0*(t-tITMplus)))/(rho0*c0) + 0.5*(u0tITMplus(x + c0*(t-tITMplus)) + u0tITMplus(x - c0*(t-tITMplus)))"
   ]
  },
  {
   "cell_type": "code",
   "execution_count": 31,
   "id": "9930759a",
   "metadata": {},
   "outputs": [
    {
     "data": {
      "text/plain": [
       "-((-0.25*c0*n^2 + 0.25*c0)*rho0*cos(c0*k*t - 2*c0*k*tITMminus - (c0*k*n + c0*k)*tau + k*x) + (0.25*c0*n^2 - 0.25*c0)*rho0*cos(c0*k*t - 2*c0*k*tITMminus + (c0*k*n - c0*k)*tau + k*x) + (0.25*c0*n^2 - 0.5*c0*n + 0.25*c0)*rho0*cos(-c0*k*t + (c0*k*n + c0*k)*tau + k*x) + (-0.25*c0*n^2 - 0.5*c0*n - 0.25*c0)*rho0*cos(-c0*k*t - (c0*k*n - c0*k)*tau + k*x))/n"
      ]
     },
     "execution_count": 31,
     "metadata": {},
     "output_type": "execute_result"
    }
   ],
   "source": [
    "p3.simplify_full()"
   ]
  },
  {
   "cell_type": "code",
   "execution_count": 32,
   "id": "97087e54",
   "metadata": {},
   "outputs": [
    {
     "data": {
      "text/plain": [
       "-\\frac{{\\left(-0.25 \\, c_{0} n^{2} + 0.25 \\, c_{0}\\right)} \\rho_{0} \\cos\\left(c_{0} k t - 2 \\, c_{0} k \\mathit{tITMminus} - {\\left(c_{0} k n + c_{0} k\\right)} \\tau + k x\\right) + {\\left(0.25 \\, c_{0} n^{2} - 0.25 \\, c_{0}\\right)} \\rho_{0} \\cos\\left(c_{0} k t - 2 \\, c_{0} k \\mathit{tITMminus} + {\\left(c_{0} k n - c_{0} k\\right)} \\tau + k x\\right) + {\\left(0.25 \\, c_{0} n^{2} - 0.5 \\, c_{0} n + 0.25 \\, c_{0}\\right)} \\rho_{0} \\cos\\left(-c_{0} k t + {\\left(c_{0} k n + c_{0} k\\right)} \\tau + k x\\right) + {\\left(-0.25 \\, c_{0} n^{2} - 0.5 \\, c_{0} n - 0.25 \\, c_{0}\\right)} \\rho_{0} \\cos\\left(-c_{0} k t - {\\left(c_{0} k n - c_{0} k\\right)} \\tau + k x\\right)}{n}"
      ]
     },
     "execution_count": 32,
     "metadata": {},
     "output_type": "execute_result"
    }
   ],
   "source": [
    "latex(p3.simplify_full())"
   ]
  },
  {
   "cell_type": "code",
   "execution_count": 33,
   "id": "3962b9e8",
   "metadata": {},
   "outputs": [
    {
     "data": {
      "text/plain": [
       "-((0.25*n^2 - 0.25)*cos(c0*k*t - 2*c0*k*tITMminus - (c0*k*n + c0*k)*tau + k*x) + (-0.25*n^2 + 0.25)*cos(c0*k*t - 2*c0*k*tITMminus + (c0*k*n - c0*k)*tau + k*x) + (0.25*n^2 - 0.5*n + 0.25)*cos(-c0*k*t + (c0*k*n + c0*k)*tau + k*x) + (-0.25*n^2 - 0.5*n - 0.25)*cos(-c0*k*t - (c0*k*n - c0*k)*tau + k*x))/n"
      ]
     },
     "execution_count": 33,
     "metadata": {},
     "output_type": "execute_result"
    }
   ],
   "source": [
    "u3.simplify_full()"
   ]
  },
  {
   "cell_type": "code",
   "execution_count": 34,
   "id": "b7067c12",
   "metadata": {},
   "outputs": [
    {
     "data": {
      "text/plain": [
       "-\\frac{{\\left(0.25 \\, n^{2} - 0.25\\right)} \\cos\\left(c_{0} k t - 2 \\, c_{0} k \\mathit{tITMminus} - {\\left(c_{0} k n + c_{0} k\\right)} \\tau + k x\\right) + {\\left(-0.25 \\, n^{2} + 0.25\\right)} \\cos\\left(c_{0} k t - 2 \\, c_{0} k \\mathit{tITMminus} + {\\left(c_{0} k n - c_{0} k\\right)} \\tau + k x\\right) + {\\left(0.25 \\, n^{2} - 0.5 \\, n + 0.25\\right)} \\cos\\left(-c_{0} k t + {\\left(c_{0} k n + c_{0} k\\right)} \\tau + k x\\right) + {\\left(-0.25 \\, n^{2} - 0.5 \\, n - 0.25\\right)} \\cos\\left(-c_{0} k t - {\\left(c_{0} k n - c_{0} k\\right)} \\tau + k x\\right)}{n}"
      ]
     },
     "execution_count": 34,
     "metadata": {},
     "output_type": "execute_result"
    }
   ],
   "source": [
    "latex(u3.simplify_full())"
   ]
  },
  {
   "cell_type": "code",
   "execution_count": 35,
   "id": "d65b530c",
   "metadata": {},
   "outputs": [],
   "source": [
    "test1 = diff(p3, t) + rho0*c0*c0*diff(u3, x)\n",
    "test2 = rho0*diff(u3, t) + diff(p3, x)"
   ]
  },
  {
   "cell_type": "code",
   "execution_count": 36,
   "id": "e0689e8d",
   "metadata": {},
   "outputs": [
    {
     "data": {
      "text/plain": [
       "0"
      ]
     },
     "execution_count": 36,
     "metadata": {},
     "output_type": "execute_result"
    }
   ],
   "source": [
    "test1.simplify_full()"
   ]
  },
  {
   "cell_type": "code",
   "execution_count": 37,
   "id": "57f281d6",
   "metadata": {},
   "outputs": [
    {
     "data": {
      "text/plain": [
       "0"
      ]
     },
     "execution_count": 37,
     "metadata": {},
     "output_type": "execute_result"
    }
   ],
   "source": [
    "test2.simplify_full()"
   ]
  },
  {
   "cell_type": "code",
   "execution_count": 38,
   "id": "648e8536",
   "metadata": {},
   "outputs": [],
   "source": [
    "energy3 = definite_integral(0.5*p3(x, t)*p3(x, t)/K(rho0, c0) + 0.5*rho0*u3(x,t)*u3(x,t), x, -pi/k, pi/k)"
   ]
  },
  {
   "cell_type": "code",
   "execution_count": 39,
   "id": "a45b1ddb",
   "metadata": {},
   "outputs": [
    {
     "data": {
      "text/plain": [
       "-1/2*((pi + pi*n^4 - 2*pi*n^2)*rho0*cos(c0*k*n*tau)^2 - (pi + pi*n^4)*rho0)/(k*n^2)"
      ]
     },
     "execution_count": 39,
     "metadata": {},
     "output_type": "execute_result"
    }
   ],
   "source": [
    "energy3.simplify_full()"
   ]
  },
  {
   "cell_type": "code",
   "execution_count": 189,
   "id": "b8a9908b",
   "metadata": {},
   "outputs": [
    {
     "data": {
      "text/plain": [
       "-\\frac{{\\left(\\pi + \\pi n^{4} - 2 \\, \\pi n^{2}\\right)} \\rho_{0} \\cos\\left(c_{0} k n \\tau\\right)^{2} - {\\left(\\pi + \\pi n^{4}\\right)} \\rho_{0}}{2 \\, k n^{2}}"
      ]
     },
     "execution_count": 189,
     "metadata": {},
     "output_type": "execute_result"
    }
   ],
   "source": [
    "latex(energy3.simplify_full())"
   ]
  },
  {
   "cell_type": "code",
   "execution_count": 40,
   "id": "f7ece6cc",
   "metadata": {},
   "outputs": [
    {
     "data": {
      "text/plain": [
       "1/2*(n^4 - (n^4 - 2*n^2 + 1)*cos(c0*k*n*tau)^2 + 1)/n^2"
      ]
     },
     "execution_count": 40,
     "metadata": {},
     "output_type": "execute_result"
    }
   ],
   "source": [
    "ratio2 = energy3/energy\n",
    "ratio2.simplify_full()"
   ]
  },
  {
   "cell_type": "code",
   "execution_count": 191,
   "id": "af0eddd6",
   "metadata": {},
   "outputs": [
    {
     "data": {
      "text/plain": [
       "cos(x^2)*cos(x)"
      ]
     },
     "execution_count": 191,
     "metadata": {},
     "output_type": "execute_result"
    }
   ],
   "source": [
    "cos(x*x)*cos(x)"
   ]
  },
  {
   "cell_type": "code",
   "execution_count": 196,
   "id": "7d27b949",
   "metadata": {},
   "outputs": [],
   "source": [
    "expression = (0.5*((1/n)**2 + n*n - (1-1/n)**2)).diff()"
   ]
  },
  {
   "cell_type": "code",
   "execution_count": 197,
   "id": "6d156e15",
   "metadata": {},
   "outputs": [
    {
     "data": {
      "text/plain": [
       "1.00000000000000*n + 1.00000000000000*(1/n - 1)/n^2 - 1.00000000000000/n^3"
      ]
     },
     "execution_count": 197,
     "metadata": {},
     "output_type": "execute_result"
    }
   ],
   "source": [
    "expression\n"
   ]
  },
  {
   "cell_type": "code",
   "execution_count": 199,
   "id": "9a0436ae",
   "metadata": {},
   "outputs": [
    {
     "data": {
      "text/plain": [
       "[n == 1/2*I*sqrt(3) - 1/2, n == -1/2*I*sqrt(3) - 1/2, n == 1]"
      ]
     },
     "execution_count": 199,
     "metadata": {},
     "output_type": "execute_result"
    }
   ],
   "source": [
    "solve(expression, n)"
   ]
  },
  {
   "cell_type": "code",
   "execution_count": 200,
   "id": "94dfb29a",
   "metadata": {},
   "outputs": [
    {
     "data": {
      "text/plain": [
       "I"
      ]
     },
     "execution_count": 200,
     "metadata": {},
     "output_type": "execute_result"
    }
   ],
   "source": [
    "I"
   ]
  },
  {
   "cell_type": "code",
   "execution_count": null,
   "id": "7556f844",
   "metadata": {},
   "outputs": [],
   "source": []
  }
 ],
 "metadata": {
  "kernelspec": {
   "display_name": "SageMath 9.5",
   "language": "sage",
   "name": "sagemath"
  },
  "language_info": {
   "codemirror_mode": {
    "name": "ipython",
    "version": 3
   },
   "file_extension": ".py",
   "mimetype": "text/x-python",
   "name": "python",
   "nbconvert_exporter": "python",
   "pygments_lexer": "ipython3",
   "version": "3.10.6"
  }
 },
 "nbformat": 4,
 "nbformat_minor": 5
}
